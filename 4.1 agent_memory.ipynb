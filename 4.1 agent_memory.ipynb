{
  "cells": [
    {
      "cell_type": "markdown",
      "id": "13cd1c3e",
      "metadata": {
        "id": "13cd1c3e"
      },
      "source": [
        "[![Open in Colab](https://colab.research.google.com/assets/colab-badge.svg)](https://colab.research.google.com/github/langchain-ai/langchain-academy/blob/main/module-1/agent-memory.ipynb) [![Open in LangChain Academy](https://cdn.prod.website-files.com/65b8cd72835ceeacd4449a53/66e9eba12c7b7688aa3dbb5e_LCA-badge-green.svg)](https://academy.langchain.com/courses/take/intro-to-langgraph/lessons/58239417-lesson-7-agent-with-memory)"
      ]
    },
    {
      "cell_type": "markdown",
      "id": "8c451ffd-a18b-4412-85fa-85186824dd03",
      "metadata": {
        "id": "8c451ffd-a18b-4412-85fa-85186824dd03"
      },
      "source": [
        "# Agent memory\n",
        "\n",
        "## Review\n",
        "\n",
        "Previously, we built an agent that can:\n",
        "\n",
        "* `act` - let the model call specific tools\n",
        "* `observe` - pass the tool output back to the model\n",
        "* `reason` - let the model reason about the tool output to decide what to do next (e.g., call another tool or just respond directly)\n",
        "\n",
        "![Screenshot 2024-08-21 at 12.45.32 PM.png](https://cdn.prod.website-files.com/65b8cd72835ceeacd4449a53/66dbab7453080e6802cd1703_agent-memory1.png)\n",
        "\n",
        "## Goals\n",
        "\n",
        "Now, we're going extend our agent by introducing memory."
      ]
    },
    {
      "cell_type": "code",
      "execution_count": 1,
      "id": "d2b4b45b-cbaa-41b1-b3ed-f6b0645be3f9",
      "metadata": {
        "id": "d2b4b45b-cbaa-41b1-b3ed-f6b0645be3f9"
      },
      "outputs": [],
      "source": [
        "%%capture --no-stderr\n",
        "%pip install --quiet -U langchain_openai langchain_core langgraph"
      ]
    },
    {
      "cell_type": "code",
      "execution_count": 2,
      "id": "2b0cfa99",
      "metadata": {
        "id": "2b0cfa99",
        "outputId": "27d04ff7-2db9-4ba0-f683-09160669d91c",
        "colab": {
          "base_uri": "https://localhost:8080/"
        }
      },
      "outputs": [
        {
          "name": "stdout",
          "output_type": "stream",
          "text": [
            "OPENAI_API_KEY: ··········\n"
          ]
        }
      ],
      "source": [
        "import os, getpass\n",
        "\n",
        "def _set_env(var: str):\n",
        "    if not os.environ.get(var):\n",
        "        os.environ[var] = getpass.getpass(f\"{var}: \")\n",
        "\n",
        "_set_env(\"OPENAI_API_KEY\")"
      ]
    },
    {
      "cell_type": "markdown",
      "id": "02eff247-a2aa-4f7a-8be1-73dfebfecc63",
      "metadata": {
        "id": "02eff247-a2aa-4f7a-8be1-73dfebfecc63"
      },
      "source": [
        "We'll use [LangSmith](https://docs.smith.langchain.com/) for [tracing](https://docs.smith.langchain.com/concepts/tracing)."
      ]
    },
    {
      "cell_type": "code",
      "execution_count": 3,
      "id": "74ef2ff0",
      "metadata": {
        "id": "74ef2ff0",
        "outputId": "ef5d4d65-2b56-4cdc-8664-a2d5634bb184",
        "colab": {
          "base_uri": "https://localhost:8080/"
        }
      },
      "outputs": [
        {
          "name": "stdout",
          "output_type": "stream",
          "text": [
            "LANGCHAIN_API_KEY: ··········\n"
          ]
        }
      ],
      "source": [
        "_set_env(\"LANGCHAIN_API_KEY\")\n",
        "os.environ[\"LANGCHAIN_TRACING_V2\"] = \"true\"\n",
        "os.environ[\"LANGCHAIN_PROJECT\"] = \"langchain-academy\""
      ]
    },
    {
      "cell_type": "markdown",
      "id": "9c5f123b-db5d-4816-a6a3-2e4247611512",
      "metadata": {
        "id": "9c5f123b-db5d-4816-a6a3-2e4247611512"
      },
      "source": [
        "This follows what we did previously."
      ]
    },
    {
      "cell_type": "code",
      "execution_count": 4,
      "id": "46647bbe-def5-4ea7-a315-1de8d97c8288",
      "metadata": {
        "id": "46647bbe-def5-4ea7-a315-1de8d97c8288"
      },
      "outputs": [],
      "source": [
        "from langchain_openai import ChatOpenAI\n",
        "\n",
        "# Define the tools\n",
        "def check_ip(ip_address: str) -> str:\n",
        "    \"\"\"Check if an IP address is malicious.\"\"\"\n",
        "    malicious_ips = [\"203.0.113.42\", \"198.51.100.17\"]\n",
        "    return \"malicious\" if ip_address in malicious_ips else \"clean\"\n",
        "\n",
        "def check_domain(domain: str) -> str:\n",
        "    \"\"\"Check if a domain is malicious.\"\"\"\n",
        "    malicious_domains = [\"malicious.example.com\"]\n",
        "    return \"malicious\" if domain in malicious_domains else \"clean\"\n",
        "\n",
        "def suggest_remediation(threat: str) -> str:\n",
        "    \"\"\"Suggest remediation steps based on the threat.\"\"\"\n",
        "    remediation_steps = {\n",
        "        \"malicious_ip\": \"Block the IP address and monitor network traffic.\",\n",
        "        \"malicious_domain\": \"Block the domain at the DNS level and monitor for phishing attempts.\",\n",
        "        \"data_exfiltration\": \"Isolate affected systems and conduct forensic analysis.\"\n",
        "    }\n",
        "    return remediation_steps.get(threat, \"No specific remediation steps found.\")\n",
        "\n",
        "\n",
        "# List of tools\n",
        "tools = [check_ip, check_domain, suggest_remediation]\n",
        "\n",
        "# Set up the chat model and bind the tools\n",
        "llm = ChatOpenAI(model=\"gpt-4\")\n",
        "llm_with_tools = llm.bind_tools(tools, parallel_tool_calls=False)\n"
      ]
    },
    {
      "cell_type": "code",
      "execution_count": 5,
      "id": "a9092b40-20c4-4872-b0ed-be1b53a15ef3",
      "metadata": {
        "id": "a9092b40-20c4-4872-b0ed-be1b53a15ef3"
      },
      "outputs": [],
      "source": [
        "# Define the assistant function\n",
        "from langgraph.graph import MessagesState\n",
        "from langchain_core.messages import HumanMessage, SystemMessage\n",
        "\n",
        "# System message guiding the assistant's behavior\n",
        "sys_msg = SystemMessage(content=(\n",
        "    \"You are a cybersecurity assistant specialized in Data Loss Prevention (DLP). \"\n",
        "    \"You can summarize incidents, check indicators of compromise (IOCs), and suggest remediation steps. \"\n",
        "    \"Use available tools when necessary.\"\n",
        "))\n",
        "\n",
        "def assistant(state: MessagesState):\n",
        "    return {\"messages\": [llm_with_tools.invoke([sys_msg] + state[\"messages\"])]}\n"
      ]
    },
    {
      "cell_type": "code",
      "execution_count": 8,
      "id": "771123a3-91ac-4076-92c0-93bcd69cf048",
      "metadata": {
        "id": "771123a3-91ac-4076-92c0-93bcd69cf048"
      },
      "outputs": [],
      "source": [
        "# Build the graph\n",
        "from langgraph.graph import START, StateGraph\n",
        "from langgraph.prebuilt import tools_condition, ToolNode\n",
        "\n",
        "builder = StateGraph(MessagesState)\n",
        "builder.add_node(\"assistant\", assistant)\n",
        "builder.add_node(\"tools\", ToolNode(tools))\n",
        "builder.add_edge(START, \"assistant\")\n",
        "builder.add_conditional_edges(\n",
        "    \"assistant\",\n",
        "    tools_condition,\n",
        ")\n",
        "builder.add_edge(\"tools\", \"assistant\")\n",
        "dlp_agent_graph = builder.compile()\n"
      ]
    },
    {
      "cell_type": "markdown",
      "id": "e830b7ae-3673-4cc6-8627-4740b7b8b217",
      "metadata": {
        "id": "e830b7ae-3673-4cc6-8627-4740b7b8b217"
      },
      "source": [
        "## Memory\n",
        "\n",
        "Let's run our agent, as before."
      ]
    },
    {
      "cell_type": "code",
      "execution_count": 18,
      "id": "596a71a0-1337-44d4-971d-f80c367bd868",
      "metadata": {
        "id": "596a71a0-1337-44d4-971d-f80c367bd868",
        "outputId": "3ec3889c-6345-41a7-db30-d84b904b5fde",
        "colab": {
          "base_uri": "https://localhost:8080/"
        }
      },
      "outputs": [
        {
          "output_type": "stream",
          "name": "stdout",
          "text": [
            "================================\u001b[1m Human Message \u001b[0m=================================\n",
            "\n",
            "someone sent a pdf from their personal computer\n",
            "==================================\u001b[1m Ai Message \u001b[0m==================================\n",
            "\n",
            "In order to analyze this incident thoroughly, I need more specifics. Could you please provide additional information such as:\n",
            "\n",
            "1. The destination of the sent PDF. Was it sent to an external or internal entity?\n",
            "2. The content of the PDF. Did it contain sensitive or company-related data?\n",
            "3. The method of transmission. Was it via a company email, personal email or some other method?\n",
            "4. The IP address or domain involved in the incident.\n",
            "\n",
            "Once I have this information, I can then proceed with the investigation, by checking the IP or domain for malicious activity and suggesting remediation steps if necessary.\n"
          ]
        }
      ],
      "source": [
        "messages = [HumanMessage(content=\"someone sent a pdf from their personal computer\")]\n",
        "messages = dlp_agent_graph.invoke({\"messages\": messages})\n",
        "for m in messages['messages']:\n",
        "    m.pretty_print()"
      ]
    },
    {
      "cell_type": "markdown",
      "id": "92f8128c-f4a5-4dee-b20b-3245bd33f6b3",
      "metadata": {
        "id": "92f8128c-f4a5-4dee-b20b-3245bd33f6b3"
      },
      "source": [
        "Now, let's multiply by 2!"
      ]
    },
    {
      "cell_type": "code",
      "execution_count": 19,
      "id": "b41cc1d7-e6de-4d86-8958-8cf7446f4c22",
      "metadata": {
        "id": "b41cc1d7-e6de-4d86-8958-8cf7446f4c22",
        "outputId": "8c142ed5-9608-4841-ece8-e220dfed7265",
        "colab": {
          "base_uri": "https://localhost:8080/"
        }
      },
      "outputs": [
        {
          "output_type": "stream",
          "name": "stdout",
          "text": [
            "================================\u001b[1m Human Message \u001b[0m=================================\n",
            "\n",
            "which can i use for my dlp case?\n",
            "==================================\u001b[1m Ai Message \u001b[0m==================================\n",
            "\n",
            "Based on your role as a cybersecurity assistant specialized in Data Loss Prevention (DLP), you can use the following tools:\n",
            "\n",
            "1. **Check IP**: This function allows you to check if an IP address is malicious. This is useful in incident investigation when you have an IP address that you suspect may be associated with malicious activities. This tool can provide important information about the reputation of the IP address.\n",
            "\n",
            "2. **Check Domain**: This function lets you check if a domain is malicious. Similar to the Check IP tool, this is valuable in investigations where a particular domain is suspected of being linked to malicious activities.\n",
            "\n",
            "3. **Suggest Remediation**: This function suggests remediation steps based on the threat. After identifying a threat, this tool can provide guidance on how to mitigate the threat and secure the environment.\n",
            "\n",
            "You can use these tools individually or in combination, depending on the needs of your case. For instance, if an incident involves suspicious network activities, you can use the Check IP and Check Domain tools to investigate. Once you've determined the type of threat, you can then use the Suggest Remediation tool to find ways of addressing it.\n"
          ]
        }
      ],
      "source": [
        "messages = [HumanMessage(content=\"which can i use for my dlp case?\")]\n",
        "messages = dlp_agent_graph.invoke({\"messages\": messages})\n",
        "for m in messages['messages']:\n",
        "    m.pretty_print()"
      ]
    },
    {
      "cell_type": "markdown",
      "id": "26e65f3c-e1dc-4a62-b8ab-02b33a6ff268",
      "metadata": {
        "id": "26e65f3c-e1dc-4a62-b8ab-02b33a6ff268"
      },
      "source": [
        "We don't retain memory of 7 from our initial chat!\n",
        "\n",
        "This is because [state is transient](https://github.com/langchain-ai/langgraph/discussions/352#discussioncomment-9291220) to a single graph execution.\n",
        "\n",
        "Of course, this limits our ability to have multi-turn conversations with interruptions.\n",
        "\n",
        "We can use [persistence](https://langchain-ai.github.io/langgraph/how-tos/persistence/) to address this!\n",
        "\n",
        "LangGraph can use a checkpointer to automatically save the graph state after each step.\n",
        "\n",
        "This built-in persistence layer gives us memory, allowing LangGraph to pick up from the last state update.\n",
        "\n",
        "One of the easiest checkpointers to use is the `MemorySaver`, an in-memory key-value store for Graph state.\n",
        "\n",
        "All we need to do is simply compile the graph with a checkpointer, and our graph has memory!"
      ]
    },
    {
      "cell_type": "code",
      "execution_count": 14,
      "id": "637fcd79-3896-42e4-9131-e03b123a0a90",
      "metadata": {
        "id": "637fcd79-3896-42e4-9131-e03b123a0a90"
      },
      "outputs": [],
      "source": [
        "from langgraph.checkpoint.memory import MemorySaver\n",
        "memory = MemorySaver()\n",
        "react_graph_memory = builder.compile(checkpointer=memory)"
      ]
    },
    {
      "cell_type": "markdown",
      "id": "ff8fc3bf-3999-47cb-af34-06b2b94d7192",
      "metadata": {
        "id": "ff8fc3bf-3999-47cb-af34-06b2b94d7192"
      },
      "source": [
        "When we use memory, we need to specify a `thread_id`.\n",
        "\n",
        "This `thread_id` will store our collection of graph states.\n",
        "\n",
        "Here is a cartoon:\n",
        "\n",
        "* The checkpointer write the state at every step of the graph\n",
        "* These checkpoints are saved in a thread\n",
        "* We can access that thread in the future using the `thread_id`\n",
        "\n",
        "![state.jpg](https://cdn.prod.website-files.com/65b8cd72835ceeacd4449a53/66e0e9f526b41a4ed9e2d28b_agent-memory2.png)\n"
      ]
    },
    {
      "cell_type": "code",
      "execution_count": 16,
      "id": "f722a1d6-e73c-4023-86ed-8b07d392278d",
      "metadata": {
        "id": "f722a1d6-e73c-4023-86ed-8b07d392278d",
        "outputId": "dec33232-1bb4-4374-d9f2-c5554624104f",
        "colab": {
          "base_uri": "https://localhost:8080/"
        }
      },
      "outputs": [
        {
          "output_type": "stream",
          "name": "stdout",
          "text": [
            "================================\u001b[1m Human Message \u001b[0m=================================\n",
            "\n",
            "Add 3 and 4.\n",
            "==================================\u001b[1m Ai Message \u001b[0m==================================\n",
            "\n",
            "I'm sorry for any confusion, but as a cybersecurity assistant, I specialize in data loss prevention, checking indicators of compromise, and suggesting remediation steps. I'm not equipped to perform mathematical operations. Can I assist you with something related to cybersecurity?\n",
            "================================\u001b[1m Human Message \u001b[0m=================================\n",
            "\n",
            "What is xsoar and symantec?\n",
            "==================================\u001b[1m Ai Message \u001b[0m==================================\n",
            "\n",
            "XSOAR and Symantec are both key players in the field of cybersecurity, but they serve different functions:\n",
            "\n",
            "1. XSOAR (Cortex XSOAR): This is a comprehensive Security Orchestration, Automation and Response (SOAR) platform that unifies case management, automation, real-time collaboration and threat intel management. It helps security teams manage and respond to alerts in a systematic and efficient manner. XSOAR is a product of Palo Alto Networks.\n",
            "\n",
            "2. Symantec: It is a leading cybersecurity company that provides a wide range of software and services to protect and manage information. They offer solutions for threat protection, information protection, cyber security services, website security and small & medium business security. One of their well-known products is Norton Antivirus. Symantec was acquired by Broadcom in 2019.\n"
          ]
        }
      ],
      "source": [
        "# Specify a thread\n",
        "config = {\"configurable\": {\"thread_id\": \"1\"}}\n",
        "\n",
        "# Specify an input\n",
        "messages = [HumanMessage(content=\"What is xsoar and symantec?\")]\n",
        "\n",
        "# Run\n",
        "messages = react_graph_memory.invoke({\"messages\": messages},config)\n",
        "for m in messages['messages']:\n",
        "    m.pretty_print()"
      ]
    },
    {
      "cell_type": "markdown",
      "id": "c91a8a16-6bf1-48e2-a889-ae04a37c7a2b",
      "metadata": {
        "id": "c91a8a16-6bf1-48e2-a889-ae04a37c7a2b"
      },
      "source": [
        "If we pass the same `thread_id`, then we can proceed from from the previously logged state checkpoint!\n",
        "\n",
        "In this case, the above conversation is captured in the thread.\n",
        "\n",
        "The `HumanMessage` we pass (`\"Multiply that by 2.\"`) is appended to the above conversation.\n",
        "\n",
        "So, the model now know that `that` refers to the `The sum of 3 and 4 is 7.`."
      ]
    },
    {
      "cell_type": "code",
      "execution_count": 17,
      "id": "ee38c6ef-8bfb-4c66-9214-6f474c9b8451",
      "metadata": {
        "id": "ee38c6ef-8bfb-4c66-9214-6f474c9b8451",
        "outputId": "f1b800f1-79fd-4150-f468-5e40c1167443",
        "colab": {
          "base_uri": "https://localhost:8080/"
        }
      },
      "outputs": [
        {
          "output_type": "stream",
          "name": "stdout",
          "text": [
            "================================\u001b[1m Human Message \u001b[0m=================================\n",
            "\n",
            "Add 3 and 4.\n",
            "==================================\u001b[1m Ai Message \u001b[0m==================================\n",
            "\n",
            "I'm sorry for any confusion, but as a cybersecurity assistant, I specialize in data loss prevention, checking indicators of compromise, and suggesting remediation steps. I'm not equipped to perform mathematical operations. Can I assist you with something related to cybersecurity?\n",
            "================================\u001b[1m Human Message \u001b[0m=================================\n",
            "\n",
            "What is xsoar and symantec?\n",
            "==================================\u001b[1m Ai Message \u001b[0m==================================\n",
            "\n",
            "XSOAR and Symantec are both key players in the field of cybersecurity, but they serve different functions:\n",
            "\n",
            "1. XSOAR (Cortex XSOAR): This is a comprehensive Security Orchestration, Automation and Response (SOAR) platform that unifies case management, automation, real-time collaboration and threat intel management. It helps security teams manage and respond to alerts in a systematic and efficient manner. XSOAR is a product of Palo Alto Networks.\n",
            "\n",
            "2. Symantec: It is a leading cybersecurity company that provides a wide range of software and services to protect and manage information. They offer solutions for threat protection, information protection, cyber security services, website security and small & medium business security. One of their well-known products is Norton Antivirus. Symantec was acquired by Broadcom in 2019.\n",
            "================================\u001b[1m Human Message \u001b[0m=================================\n",
            "\n",
            "which can i use for my dlp case?\n",
            "==================================\u001b[1m Ai Message \u001b[0m==================================\n",
            "\n",
            "Both XSOAR and Symantec can be used for DLP (Data Loss Prevention) cases, but they serve different roles:\n",
            "\n",
            "1. Symantec DLP: This is a comprehensive data loss prevention solution that discovers, monitors, and protects sensitive data. This includes data in-motion, data at-rest, and data in-use across various channels such as email, cloud apps, endpoints etc. If your primary concern is preventing data leaks and ensuring compliance, Symantec DLP could be a good choice.\n",
            "\n",
            "2. XSOAR: This is more of an incident response and security automation platform. It can help you automate and streamline your response to DLP alerts. So, if you're dealing with a high number of DLP alerts and want to improve your incident response efficiency, XSOAR could be helpful.\n",
            "\n",
            "In many cases, organizations use a DLP tool like Symantec DLP together with a SOAR tool like XSOAR, using the latter to automate and coordinate responses to alerts generated by the former. This can help to significantly improve efficiency and effectiveness in managing and responding to DLP incidents.\n"
          ]
        }
      ],
      "source": [
        "messages = [HumanMessage(content=\"which can i use for my dlp case?\")]\n",
        "messages = react_graph_memory.invoke({\"messages\": messages}, config)\n",
        "for m in messages['messages']:\n",
        "    m.pretty_print()"
      ]
    },
    {
      "cell_type": "markdown",
      "id": "c4b7774e-566f-4c92-9429-ed953bcacaa5",
      "metadata": {
        "id": "c4b7774e-566f-4c92-9429-ed953bcacaa5"
      },
      "source": [
        "## LangGraph Studio\n",
        "\n",
        "--\n",
        "\n",
        "**⚠️ DISCLAIMER**\n",
        "\n",
        "*Running Studio currently requires a Mac. If you are not using a Mac, then skip this step.*\n",
        "\n",
        "--\n",
        "\n",
        "Load the `agent` in the UI, which uses `module-1/studio/agent.py` set in `module-1/studio/langgraph.json`."
      ]
    },
    {
      "cell_type": "code",
      "execution_count": null,
      "id": "6d72986c-ff6f-4f81-b585-d268e2710e53",
      "metadata": {
        "id": "6d72986c-ff6f-4f81-b585-d268e2710e53"
      },
      "outputs": [],
      "source": []
    }
  ],
  "metadata": {
    "kernelspec": {
      "display_name": "Python 3 (ipykernel)",
      "language": "python",
      "name": "python3"
    },
    "language_info": {
      "codemirror_mode": {
        "name": "ipython",
        "version": 3
      },
      "file_extension": ".py",
      "mimetype": "text/x-python",
      "name": "python",
      "nbconvert_exporter": "python",
      "pygments_lexer": "ipython3",
      "version": "3.12.1"
    },
    "colab": {
      "provenance": []
    }
  },
  "nbformat": 4,
  "nbformat_minor": 5
}