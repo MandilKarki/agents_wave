{
  "cells": [
    {
      "cell_type": "markdown",
      "id": "13cd1c3e",
      "metadata": {
        "id": "13cd1c3e"
      },
      "source": [
        "[![Open in Colab](https://colab.research.google.com/assets/colab-badge.svg)](https://colab.research.google.com/github/langchain-ai/langchain-academy/blob/main/module-1/agent-memory.ipynb) [![Open in LangChain Academy](https://cdn.prod.website-files.com/65b8cd72835ceeacd4449a53/66e9eba12c7b7688aa3dbb5e_LCA-badge-green.svg)](https://academy.langchain.com/courses/take/intro-to-langgraph/lessons/58239417-lesson-7-agent-with-memory)"
      ]
    },
    {
      "cell_type": "markdown",
      "id": "8c451ffd-a18b-4412-85fa-85186824dd03",
      "metadata": {
        "id": "8c451ffd-a18b-4412-85fa-85186824dd03"
      },
      "source": [
        "# Agent memory\n",
        "\n",
        "## Review\n",
        "\n",
        "Previously, we built an agent that can:\n",
        "\n",
        "* `act` - let the model call specific tools\n",
        "* `observe` - pass the tool output back to the model\n",
        "* `reason` - let the model reason about the tool output to decide what to do next (e.g., call another tool or just respond directly)\n",
        "\n",
        "![Screenshot 2024-08-21 at 12.45.32 PM.png](https://cdn.prod.website-files.com/65b8cd72835ceeacd4449a53/66dbab7453080e6802cd1703_agent-memory1.png)\n",
        "\n",
        "## Goals\n",
        "\n",
        "Now, we're going extend our agent by introducing memory."
      ]
    },
    {
      "cell_type": "code",
      "execution_count": 1,
      "id": "d2b4b45b-cbaa-41b1-b3ed-f6b0645be3f9",
      "metadata": {
        "id": "d2b4b45b-cbaa-41b1-b3ed-f6b0645be3f9"
      },
      "outputs": [],
      "source": [
        "%%capture --no-stderr\n",
        "%pip install --quiet -U langchain_openai langchain_core langgraph"
      ]
    },
    {
      "cell_type": "code",
      "execution_count": 2,
      "id": "2b0cfa99",
      "metadata": {
        "colab": {
          "base_uri": "https://localhost:8080/"
        },
        "id": "2b0cfa99",
        "outputId": "27d04ff7-2db9-4ba0-f683-09160669d91c"
      },
      "outputs": [
        {
          "name": "stdout",
          "output_type": "stream",
          "text": [
            "OPENAI_API_KEY: ··········\n"
          ]
        }
      ],
      "source": [
        "import os, getpass\n",
        "\n",
        "def _set_env(var: str):\n",
        "    if not os.environ.get(var):\n",
        "        os.environ[var] = getpass.getpass(f\"{var}: \")\n",
        "\n",
        "_set_env(\"OPENAI_API_KEY\")"
      ]
    },
    {
      "cell_type": "markdown",
      "id": "02eff247-a2aa-4f7a-8be1-73dfebfecc63",
      "metadata": {
        "id": "02eff247-a2aa-4f7a-8be1-73dfebfecc63"
      },
      "source": [
        "We'll use [LangSmith](https://docs.smith.langchain.com/) for [tracing](https://docs.smith.langchain.com/concepts/tracing)."
      ]
    },
    {
      "cell_type": "code",
      "execution_count": 3,
      "id": "74ef2ff0",
      "metadata": {
        "colab": {
          "base_uri": "https://localhost:8080/"
        },
        "id": "74ef2ff0",
        "outputId": "ef5d4d65-2b56-4cdc-8664-a2d5634bb184"
      },
      "outputs": [
        {
          "name": "stdout",
          "output_type": "stream",
          "text": [
            "LANGCHAIN_API_KEY: ··········\n"
          ]
        }
      ],
      "source": [
        "_set_env(\"LANGCHAIN_API_KEY\")\n",
        "os.environ[\"LANGCHAIN_TRACING_V2\"] = \"true\"\n",
        "os.environ[\"LANGCHAIN_PROJECT\"] = \"langchain-academy\""
      ]
    },
    {
      "cell_type": "markdown",
      "id": "9c5f123b-db5d-4816-a6a3-2e4247611512",
      "metadata": {
        "id": "9c5f123b-db5d-4816-a6a3-2e4247611512"
      },
      "source": [
        "This follows what we did previously."
      ]
    },
    {
      "cell_type": "code",
      "execution_count": 20,
      "id": "46647bbe-def5-4ea7-a315-1de8d97c8288",
      "metadata": {
        "id": "46647bbe-def5-4ea7-a315-1de8d97c8288"
      },
      "outputs": [],
      "source": [
        "from langchain_openai import ChatOpenAI\n",
        "\n",
        "def analyze_symbol(symbol: str) -> str:\n",
        "    \"\"\"Provide interpretations for common dream symbols based on Jungian psychology.\"\"\"\n",
        "    symbol_interpretations = {\n",
        "        \"water\": \"Represents the unconscious mind, emotions, and purification.\",\n",
        "        \"flying\": \"Symbolizes freedom, ambition, or a desire to rise above challenges.\",\n",
        "        \"shadow\": \"Represents the unacknowledged or repressed parts of the self.\",\n",
        "        \"forest\": \"Symbolizes exploration of the unknown aspects of the self or life.\",\n",
        "        \"door\": \"Represents opportunities, transitions, or barriers in life.\",\n",
        "        \"light\": \"Symbolizes enlightenment, awareness, or revelation.\",\n",
        "        \"snake\": \"Can represent transformation, healing, or potential danger.\",\n",
        "        \"death\": \"Often symbolizes change, endings, or the transition to a new phase.\",\n",
        "        \"baby\": \"Represents new beginnings, innocence, or potential growth.\",\n",
        "        \"teeth falling out\": \"May symbolize anxiety, loss, or concerns about self-image.\",\n",
        "        \"chase\": \"Indicates avoidance of issues or feeling threatened.\",\n",
        "        \"naked in public\": \"Reflects vulnerability or fear of exposure.\",\n",
        "        \"vehicle\": \"Represents one's journey and control over life direction.\",\n",
        "        \"house\": \"Symbolizes the self; different rooms may represent different aspects of the psyche.\",\n",
        "        \"animals\": \"Can represent instincts, behaviors, or emotions.\",\n",
        "        \"fire\": \"Symbolizes passion, transformation, destruction, or purification.\",\n",
        "        \"mirror\": \"Represents self-reflection, identity, or confronting truths.\",\n",
        "        \"falling\": \"May indicate insecurities, anxieties, or a loss of control.\",\n",
        "        \"mountain\": \"Symbolizes challenges, goals, or spiritual elevation.\",\n",
        "        \"bridge\": \"Represents transition, connection, or overcoming obstacles.\",\n",
        "        \"clock\": \"Symbolizes time constraints, urgency, or awareness of life's passing.\",\n",
        "        \"school\": \"Reflects learning experiences, personal growth, or unresolved issues from the past\"\n",
        "        # Add more symbols as needed\n",
        "    }\n",
        "    return symbol_interpretations.get(symbol.lower(), \"Symbol interpretation not found.\")\n",
        "\n",
        "def analyze_emotion(emotion: str) -> str:\n",
        "    \"\"\"Provide interpretations based on emotions felt in the dream.\"\"\"\n",
        "    emotion_interpretations = {\n",
        "        \"fear\": \"May indicate underlying anxieties or unresolved conflicts.\",\n",
        "        \"joy\": \"Reflects satisfaction, fulfillment, or positive developments.\",\n",
        "        \"anger\": \"Could symbolize repressed frustration or feelings of injustice.\",\n",
        "        \"sadness\": \"May represent grief, loss, or a need for healing.\",\n",
        "        \"confusion\": \"Indicates uncertainty or a lack of clarity in waking life.\",\n",
        "        \"peace\": \"Suggests harmony, acceptance, or resolution of internal conflicts.\",\n",
        "        \"anxiety\": \"Reflects stress, worry, or anticipation of future events.\",\n",
        "        \"love\": \"Symbolizes connections, relationships, or self-acceptance.\"\n",
        "        # Add more emotions as needed\n",
        "    }\n",
        "    return emotion_interpretations.get(emotion.lower(), \"Emotion interpretation not found.\")\n",
        "\n",
        "def identify_archetypes(description: str) -> str:\n",
        "    \"\"\"Identify Jungian archetypes present in the dream based on the description.\"\"\"\n",
        "    archetypes = {\n",
        "        \"hero\": \"Represents the ego and the quest for identity and wholeness.\",\n",
        "        \"shadow\": \"Embodies the unconscious aspects of the personality.\",\n",
        "        \"anima\": \"Represents the feminine inner personality in men.\",\n",
        "        \"animus\": \"Represents the masculine inner personality in women.\",\n",
        "        \"wise old man\": \"Symbolizes guidance, wisdom, and insight.\",\n",
        "        \"child\": \"Represents innocence, potential, and new beginnings.\",\n",
        "        \"mother\": \"Embodies nurturing, fertility, and creation.\",\n",
        "        \"trickster\": \"Challenges norms, creates chaos, and brings transformation.\"\n",
        "        # Add more archetypes as needed\n",
        "    }\n",
        "    # Simple keyword matching for demonstration purposes\n",
        "    matched_archetypes = [name for name in archetypes if name in description.lower()]\n",
        "    if matched_archetypes:\n",
        "        interpretations = [f\"{name.capitalize()}: {archetypes[name]}\" for name in matched_archetypes]\n",
        "        return \"\\n\".join(interpretations)\n",
        "    else:\n",
        "        return \"No specific archetypes identified.\"\n",
        "\n",
        "def suggest_reflection_questions() -> str:\n",
        "    \"\"\"Provide reflection questions to help the user gain deeper insights.\"\"\"\n",
        "    questions = [\n",
        "        \"How did the dream make you feel upon waking?\",\n",
        "        \"Are there any situations in your waking life that relate to the dream?\",\n",
        "        \"What personal associations do you have with the symbols in your dream?\",\n",
        "        \"Have you experienced similar dreams before?\",\n",
        "        \"Is there a message or lesson that the dream might be conveying?\",\n",
        "        \"How might the dream relate to your personal goals or challenges?\"\n",
        "    ]\n",
        "    return \"\\n\".join(questions)\n",
        "\n",
        "\n",
        "\n",
        "# # List of tools\n",
        "# tools = [check_ip, check_domain, suggest_remediation]\n",
        "\n",
        "# # Set up the chat model and bind the tools\n",
        "# llm = ChatOpenAI(model=\"gpt-4\")\n",
        "# llm_with_tools = llm.bind_tools(tools, parallel_tool_calls=False)\n"
      ]
    },
    {
      "cell_type": "code",
      "source": [
        "from langchain_openai import ChatOpenAI\n",
        "\n",
        "# Initialize the chat model\n",
        "llm = ChatOpenAI(model=\"gpt-4\")\n",
        "\n",
        "# List of tools\n",
        "tools = [analyze_symbol, analyze_emotion, identify_archetypes, suggest_reflection_questions]\n",
        "\n",
        "# Bind the tools to the language model\n",
        "llm_with_tools = llm.bind_tools(tools, parallel_tool_calls=False)\n"
      ],
      "metadata": {
        "id": "lr-BNoPvvlds"
      },
      "id": "lr-BNoPvvlds",
      "execution_count": 21,
      "outputs": []
    },
    {
      "cell_type": "code",
      "execution_count": 23,
      "id": "a9092b40-20c4-4872-b0ed-be1b53a15ef3",
      "metadata": {
        "id": "a9092b40-20c4-4872-b0ed-be1b53a15ef3"
      },
      "outputs": [],
      "source": [
        "from typing import Annotated\n",
        "from typing_extensions import TypedDict\n",
        "from langchain_core.messages import AnyMessage\n",
        "from langgraph.graph.message import add_messages\n",
        "\n",
        "class MessagesState(TypedDict):\n",
        "    messages: Annotated[list[AnyMessage], add_messages]\n",
        "from langchain_core.messages import AIMessage, HumanMessage, SystemMessage\n",
        "\n",
        "# System message guiding the assistant's behavior\n",
        "sys_msg = SystemMessage(content=(\n",
        "    \"You are a dream interpretation assistant specializing in Carl Jung's analytical psychology and modern theories. \"\n",
        "    \"You help users understand the meanings behind their dreams, symbols, and subconscious thoughts. \"\n",
        "    \"Use thoughtful analysis and provide insights based on established psychological concepts. \"\n",
        "    \"When appropriate, utilize available tools to enhance your interpretations.\"\n",
        "))\n",
        "\n",
        "def assistant(state: MessagesState):\n",
        "    return {\"messages\": [llm_with_tools.invoke([sys_msg] + state[\"messages\"])]}\n"
      ]
    },
    {
      "cell_type": "code",
      "execution_count": 24,
      "id": "771123a3-91ac-4076-92c0-93bcd69cf048",
      "metadata": {
        "id": "771123a3-91ac-4076-92c0-93bcd69cf048"
      },
      "outputs": [],
      "source": [
        "from langgraph.graph import START, StateGraph\n",
        "from langgraph.prebuilt import tools_condition, ToolNode\n",
        "\n",
        "# Build the graph\n",
        "builder = StateGraph(MessagesState)\n",
        "builder.add_node(\"assistant\", assistant)\n",
        "builder.add_node(\"tools\", ToolNode(tools))\n",
        "builder.add_edge(START, \"assistant\")\n",
        "builder.add_conditional_edges(\n",
        "    \"assistant\",\n",
        "    tools_condition,  # Routes to \"tools\" if a tool call is present; else to END\n",
        ")\n",
        "builder.add_edge(\"tools\", \"assistant\")\n",
        "\n",
        "# Compile the graph\n",
        "dream_agent_graph = builder.compile()\n"
      ]
    },
    {
      "cell_type": "markdown",
      "id": "e830b7ae-3673-4cc6-8627-4740b7b8b217",
      "metadata": {
        "id": "e830b7ae-3673-4cc6-8627-4740b7b8b217"
      },
      "source": [
        "## Memory\n",
        "\n",
        "Let's run our agent, as before."
      ]
    },
    {
      "cell_type": "code",
      "execution_count": 25,
      "id": "596a71a0-1337-44d4-971d-f80c367bd868",
      "metadata": {
        "id": "596a71a0-1337-44d4-971d-f80c367bd868"
      },
      "outputs": [],
      "source": [
        "from langgraph.checkpoint.memory import MemorySaver\n",
        "\n",
        "# Initialize the MemorySaver checkpointer\n",
        "memory = MemorySaver()\n",
        "\n",
        "# Compile the graph with the checkpointer\n",
        "dream_agent_graph_memory = builder.compile(checkpointer=memory)\n"
      ]
    },
    {
      "cell_type": "code",
      "source": [
        "# User-specific configurations with unique thread IDs\n",
        "user_configs = {\n",
        "    \"user1\": {\"configurable\": {\"thread_id\": \"dream_thread_user1\"}},\n",
        "    \"user2\": {\"configurable\": {\"thread_id\": \"dream_thread_user2\"}},\n",
        "    \"user3\": {\"configurable\": {\"thread_id\": \"dream_thread_user3\"}}\n",
        "}\n"
      ],
      "metadata": {
        "id": "EGFK2UCQv9XZ"
      },
      "id": "EGFK2UCQv9XZ",
      "execution_count": 26,
      "outputs": []
    },
    {
      "cell_type": "code",
      "execution_count": 27,
      "id": "b41cc1d7-e6de-4d86-8958-8cf7446f4c22",
      "metadata": {
        "colab": {
          "base_uri": "https://localhost:8080/"
        },
        "id": "b41cc1d7-e6de-4d86-8958-8cf7446f4c22",
        "outputId": "306440ec-bc8c-479b-f6a3-356b17bf8dd6"
      },
      "outputs": [
        {
          "output_type": "stream",
          "name": "stdout",
          "text": [
            "User 1 Conversation:\n",
            "================================\u001b[1m Human Message \u001b[0m=================================\n",
            "\n",
            "I dreamed that I was climbing a mountain and reached the top. What does it mean?\n",
            "==================================\u001b[1m Ai Message \u001b[0m==================================\n",
            "Tool Calls:\n",
            "  analyze_symbol (call_baJUtIQNdk8f3qMyXp5Htkut)\n",
            " Call ID: call_baJUtIQNdk8f3qMyXp5Htkut\n",
            "  Args:\n",
            "    symbol: mountain\n",
            "=================================\u001b[1m Tool Message \u001b[0m=================================\n",
            "Name: analyze_symbol\n",
            "\n",
            "Symbolizes challenges, goals, or spiritual elevation.\n",
            "==================================\u001b[1m Ai Message \u001b[0m==================================\n",
            "\n",
            "Dreaming about climbing a mountain and reaching the top represents overcoming challenges and achieving your goals. It may indicate that you are making significant progress in your personal or professional life, successfully overcoming obstacles that once seemed insurmountable.\n",
            "\n",
            "In the context of Carl Jung's analytical psychology, mountains can also symbolize spiritual elevation or self-discovery. Reaching the top may suggest a sense of accomplishment and a higher level of self-awareness or understanding.\n",
            "\n",
            "Remember, dreams are deeply personal and can have different meanings depending on the individual's life circumstances and personal experiences. It's essential to consider the meaning of this dream in the context of your own life. \n",
            "\n",
            "Here are some questions you might want to reflect on:\n",
            "- What challenges are you currently facing in your life?\n",
            "- Do you feel like you are making progress towards your goals?\n",
            "- Are there any personal insights or self-discoveries that you have recently made?\n"
          ]
        }
      ],
      "source": [
        "from langchain_core.messages import HumanMessage\n",
        "\n",
        "# User 1's input\n",
        "messages_user1 = [HumanMessage(content=(\n",
        "    \"I dreamed that I was climbing a mountain and reached the top. What does it mean?\"\n",
        "))]\n",
        "\n",
        "# Invoke the graph for User 1\n",
        "result_state_user1 = dream_agent_graph_memory.invoke({\"messages\": messages_user1}, user_configs[\"user1\"])\n",
        "\n",
        "# Print User 1's conversation\n",
        "print(\"User 1 Conversation:\")\n",
        "for m in result_state_user1['messages']:\n",
        "    m.pretty_print()\n"
      ]
    },
    {
      "cell_type": "code",
      "execution_count": 28,
      "id": "6d72986c-ff6f-4f81-b585-d268e2710e53",
      "metadata": {
        "colab": {
          "base_uri": "https://localhost:8080/"
        },
        "id": "6d72986c-ff6f-4f81-b585-d268e2710e53",
        "outputId": "b8a49b81-b306-4f52-ab8f-b4a0c80fe3cd"
      },
      "outputs": [
        {
          "output_type": "stream",
          "name": "stdout",
          "text": [
            "\n",
            "User 2 Conversation:\n",
            "================================\u001b[1m Human Message \u001b[0m=================================\n",
            "\n",
            "In my dream, I was being chased by a shadow figure, and I felt scared. What could this signify?\n",
            "==================================\u001b[1m Ai Message \u001b[0m==================================\n",
            "Tool Calls:\n",
            "  identify_archetypes (call_UWmHazJB7vAhcFdZ6dVHzQ5q)\n",
            " Call ID: call_UWmHazJB7vAhcFdZ6dVHzQ5q\n",
            "  Args:\n",
            "    description: being chased by a shadow figure\n",
            "=================================\u001b[1m Tool Message \u001b[0m=================================\n",
            "Name: identify_archetypes\n",
            "\n",
            "Shadow: Embodies the unconscious aspects of the personality.\n",
            "==================================\u001b[1m Ai Message \u001b[0m==================================\n",
            "Tool Calls:\n",
            "  analyze_emotion (call_3zSSUkY5OZHQO0sf12vbzZgA)\n",
            " Call ID: call_3zSSUkY5OZHQO0sf12vbzZgA\n",
            "  Args:\n",
            "    emotion: scared\n",
            "=================================\u001b[1m Tool Message \u001b[0m=================================\n",
            "Name: analyze_emotion\n",
            "\n",
            "Emotion interpretation not found.\n",
            "==================================\u001b[1m Ai Message \u001b[0m==================================\n",
            "\n",
            "Being chased in your dream, particularly by a shadow figure, generally signifies anxiety, fear, or the avoidance of an issue or a person. In Jungian psychology, the shadow figure represents the unconscious aspects of the personality, often embodying qualities that the conscious self doesn't recognize or wants to reject. Your fear in the dream could be a reflection of your real-life fear or anxiety about facing these aspects of yourself.\n",
            "\n",
            "It's important to remember that the shadow is not negative in and of itself. It merely contains elements that are unknown or uncomfortable for us to acknowledge. Recognizing and integrating these aspects can be a vital part of personal growth.\n",
            "\n",
            "Let's dig a bit deeper.\n",
            "Tool Calls:\n",
            "  suggest_reflection_questions (call_b9lxirOYzDqa9I9GwVHtIZD7)\n",
            " Call ID: call_b9lxirOYzDqa9I9GwVHtIZD7\n",
            "  Args:\n",
            "=================================\u001b[1m Tool Message \u001b[0m=================================\n",
            "Name: suggest_reflection_questions\n",
            "\n",
            "How did the dream make you feel upon waking?\n",
            "Are there any situations in your waking life that relate to the dream?\n",
            "What personal associations do you have with the symbols in your dream?\n",
            "Have you experienced similar dreams before?\n",
            "Is there a message or lesson that the dream might be conveying?\n",
            "How might the dream relate to your personal goals or challenges?\n",
            "==================================\u001b[1m Ai Message \u001b[0m==================================\n",
            "\n",
            "Consider these questions:\n",
            "\n",
            "1. How did the dream make you feel upon waking?\n",
            "2. Are there any situations in your waking life that relate to the dream?\n",
            "3. What personal associations do you have with the symbols in your dream?\n",
            "4. Have you experienced similar dreams before?\n",
            "5. Is there a message or lesson that the dream might be conveying?\n",
            "6. How might the dream relate to your personal goals or challenges?\n",
            "\n",
            "Reflecting on these questions could help you identify the aspects of your 'shadow self' that you might be avoiding or struggling with. Remember, dreams are highly personal, and the meanings can vary greatly based on your individual experiences and feelings.\n"
          ]
        }
      ],
      "source": [
        "# User 2's input\n",
        "messages_user2 = [HumanMessage(content=(\n",
        "    \"In my dream, I was being chased by a shadow figure, and I felt scared. What could this signify?\"\n",
        "))]\n",
        "\n",
        "# Invoke the graph for User 2\n",
        "result_state_user2 = dream_agent_graph_memory.invoke({\"messages\": messages_user2}, user_configs[\"user2\"])\n",
        "\n",
        "# Print User 2's conversation\n",
        "print(\"\\nUser 2 Conversation:\")\n",
        "for m in result_state_user2['messages']:\n",
        "    m.pretty_print()\n"
      ]
    },
    {
      "cell_type": "code",
      "source": [
        "# User 3's input\n",
        "messages_user3 = [HumanMessage(content=(\n",
        "    \"I dreamt of water overflowing from a glass, and I felt overwhelmed.\"\n",
        "))]\n",
        "\n",
        "# Invoke the graph for User 3\n",
        "result_state_user3 = dream_agent_graph_memory.invoke({\"messages\": messages_user3}, user_configs[\"user3\"])\n",
        "\n",
        "# Print User 3's conversation\n",
        "print(\"\\nUser 3 Conversation:\")\n",
        "for m in result_state_user3['messages']:\n",
        "    m.pretty_print()\n"
      ],
      "metadata": {
        "id": "75vYBO6vwWu2",
        "outputId": "e6aec4e1-15ef-478b-f662-8ae7808544f3",
        "colab": {
          "base_uri": "https://localhost:8080/"
        }
      },
      "id": "75vYBO6vwWu2",
      "execution_count": 29,
      "outputs": [
        {
          "output_type": "stream",
          "name": "stdout",
          "text": [
            "\n",
            "User 3 Conversation:\n",
            "================================\u001b[1m Human Message \u001b[0m=================================\n",
            "\n",
            "I dreamt of water overflowing from a glass, and I felt overwhelmed.\n",
            "==================================\u001b[1m Ai Message \u001b[0m==================================\n",
            "Tool Calls:\n",
            "  analyze_symbol (call_ZMUraDb6GxPhiA5tXhVFeMkx)\n",
            " Call ID: call_ZMUraDb6GxPhiA5tXhVFeMkx\n",
            "  Args:\n",
            "    symbol: water\n",
            "=================================\u001b[1m Tool Message \u001b[0m=================================\n",
            "Name: analyze_symbol\n",
            "\n",
            "Represents the unconscious mind, emotions, and purification.\n",
            "==================================\u001b[1m Ai Message \u001b[0m==================================\n",
            "Tool Calls:\n",
            "  analyze_symbol (call_YpOjdbMVkrn2OPYAZy6PwlTe)\n",
            " Call ID: call_YpOjdbMVkrn2OPYAZy6PwlTe\n",
            "  Args:\n",
            "    symbol: glass\n",
            "=================================\u001b[1m Tool Message \u001b[0m=================================\n",
            "Name: analyze_symbol\n",
            "\n",
            "Symbol interpretation not found.\n",
            "==================================\u001b[1m Ai Message \u001b[0m==================================\n",
            "Tool Calls:\n",
            "  analyze_emotion (call_9xsdixvJSKvhQqD776n0foPB)\n",
            " Call ID: call_9xsdixvJSKvhQqD776n0foPB\n",
            "  Args:\n",
            "    emotion: overwhelmed\n",
            "=================================\u001b[1m Tool Message \u001b[0m=================================\n",
            "Name: analyze_emotion\n",
            "\n",
            "Emotion interpretation not found.\n",
            "==================================\u001b[1m Ai Message \u001b[0m==================================\n",
            "\n",
            "In Jungian psychology, water is often considered a symbol of the unconscious mind, emotions, and purification. In your dream, the overflowing water from a glass could symbolize feelings of being overwhelmed, as you described, possibly by emotions or situations that are too much to handle. It's as if your 'cup' (or capacity to handle things) is overfilling.\n",
            "\n",
            "The glass itself, while not having a specific interpretation within Jung's framework, can be seen as a container or vessel. If we consider it this way, the overflowing water might indicate that what you're trying to contain or control is becoming too much.\n",
            "\n",
            "Feeling overwhelmed in a dream might be a reflection of similar feelings in your waking life. It could be a signal from your unconscious mind that you're taking on too much or dealing with intense emotions. \n",
            "\n",
            "Let's dig a bit deeper and identify any Jungian archetypes present in your dream.\n",
            "Tool Calls:\n",
            "  identify_archetypes (call_7eKoPhn24opEoPcuaqcRQ927)\n",
            " Call ID: call_7eKoPhn24opEoPcuaqcRQ927\n",
            "  Args:\n",
            "    description: I dreamt of water overflowing from a glass, and I felt overwhelmed.\n",
            "=================================\u001b[1m Tool Message \u001b[0m=================================\n",
            "Name: identify_archetypes\n",
            "\n",
            "No specific archetypes identified.\n",
            "==================================\u001b[1m Ai Message \u001b[0m==================================\n",
            "\n",
            "While there are no specific Jungian archetypes identified in your dream, the overall theme of being overwhelmed can align with various aspects of Jung's theory. Remember, archetypes are recurring patterns or motifs that represent universal patterns of human thought and experience. In this case, the scenario of feeling overwhelmed is a common human experience.\n",
            "\n",
            "To further understand what this dream might be saying, it could be beneficial to reflect on your current emotions and situations in your waking life. Are there areas where you're feeling overwhelmed or like things are 'overflowing'? \n",
            "\n",
            "Let's use some reflection questions to help you explore this more.\n",
            "Tool Calls:\n",
            "  suggest_reflection_questions (call_HAdEKtq0FtLZanaieOXNU1wa)\n",
            " Call ID: call_HAdEKtq0FtLZanaieOXNU1wa\n",
            "  Args:\n",
            "=================================\u001b[1m Tool Message \u001b[0m=================================\n",
            "Name: suggest_reflection_questions\n",
            "\n",
            "How did the dream make you feel upon waking?\n",
            "Are there any situations in your waking life that relate to the dream?\n",
            "What personal associations do you have with the symbols in your dream?\n",
            "Have you experienced similar dreams before?\n",
            "Is there a message or lesson that the dream might be conveying?\n",
            "How might the dream relate to your personal goals or challenges?\n",
            "==================================\u001b[1m Ai Message \u001b[0m==================================\n",
            "\n",
            "To gain deeper insights into your dream, consider these reflection questions:\n",
            "\n",
            "1. How did the dream make you feel upon waking?\n",
            "2. Are there any situations in your waking life that relate to the dream?\n",
            "3. What personal associations do you have with the symbols in your dream?\n",
            "4. Have you experienced similar dreams before?\n",
            "5. Is there a message or lesson that the dream might be conveying?\n",
            "6. How might the dream relate to your personal goals or challenges?\n",
            "\n",
            "Reflecting on these questions can provide a more personal understanding of your dream and its potential meanings.\n"
          ]
        }
      ]
    },
    {
      "cell_type": "code",
      "source": [
        "# User 1's follow-up message\n",
        "messages_user1_followup = [HumanMessage(content=(\n",
        "    \"Yes, I recently completed a big project at work. But now I feel unsure about what's next.\"\n",
        "))]\n",
        "\n",
        "# Invoke the graph again for User 1\n",
        "result_state_user1 = dream_agent_graph_memory.invoke({\"messages\": messages_user1_followup}, user_configs[\"user1\"])\n",
        "\n",
        "# Print User 1's updated conversation\n",
        "print(\"\\nUser 1 Conversation (Follow-up):\")\n",
        "for m in result_state_user1['messages']:\n",
        "    m.pretty_print()\n"
      ],
      "metadata": {
        "id": "2t3Z5iYZwlcp",
        "outputId": "d62dd24e-f4b8-43ae-9d13-9eeeaab6fccc",
        "colab": {
          "base_uri": "https://localhost:8080/"
        }
      },
      "id": "2t3Z5iYZwlcp",
      "execution_count": 30,
      "outputs": [
        {
          "output_type": "stream",
          "name": "stdout",
          "text": [
            "\n",
            "User 1 Conversation (Follow-up):\n",
            "================================\u001b[1m Human Message \u001b[0m=================================\n",
            "\n",
            "I dreamed that I was climbing a mountain and reached the top. What does it mean?\n",
            "==================================\u001b[1m Ai Message \u001b[0m==================================\n",
            "Tool Calls:\n",
            "  analyze_symbol (call_baJUtIQNdk8f3qMyXp5Htkut)\n",
            " Call ID: call_baJUtIQNdk8f3qMyXp5Htkut\n",
            "  Args:\n",
            "    symbol: mountain\n",
            "=================================\u001b[1m Tool Message \u001b[0m=================================\n",
            "Name: analyze_symbol\n",
            "\n",
            "Symbolizes challenges, goals, or spiritual elevation.\n",
            "==================================\u001b[1m Ai Message \u001b[0m==================================\n",
            "\n",
            "Dreaming about climbing a mountain and reaching the top represents overcoming challenges and achieving your goals. It may indicate that you are making significant progress in your personal or professional life, successfully overcoming obstacles that once seemed insurmountable.\n",
            "\n",
            "In the context of Carl Jung's analytical psychology, mountains can also symbolize spiritual elevation or self-discovery. Reaching the top may suggest a sense of accomplishment and a higher level of self-awareness or understanding.\n",
            "\n",
            "Remember, dreams are deeply personal and can have different meanings depending on the individual's life circumstances and personal experiences. It's essential to consider the meaning of this dream in the context of your own life. \n",
            "\n",
            "Here are some questions you might want to reflect on:\n",
            "- What challenges are you currently facing in your life?\n",
            "- Do you feel like you are making progress towards your goals?\n",
            "- Are there any personal insights or self-discoveries that you have recently made?\n",
            "================================\u001b[1m Human Message \u001b[0m=================================\n",
            "\n",
            "Yes, I recently completed a big project at work. But now I feel unsure about what's next.\n",
            "==================================\u001b[1m Ai Message \u001b[0m==================================\n",
            "Tool Calls:\n",
            "  analyze_emotion (call_oVldlcQEjsTNPLmJwMiB4RLg)\n",
            " Call ID: call_oVldlcQEjsTNPLmJwMiB4RLg\n",
            "  Args:\n",
            "    emotion: uncertainty\n",
            "=================================\u001b[1m Tool Message \u001b[0m=================================\n",
            "Name: analyze_emotion\n",
            "\n",
            "Emotion interpretation not found.\n",
            "==================================\u001b[1m Ai Message \u001b[0m==================================\n",
            "\n",
            "Your dream of reaching the top of the mountain, coupled with your recent completion of a significant work project, emphasizes a sense of achievement and accomplishment. However, the uncertainty you're feeling now could be reflected in your dream as well. \n",
            "\n",
            "Reaching the top of the mountain can symbolize the end of one journey and the beginning of another. After achieving a goal, it's perfectly natural to feel uncertain about what comes next. This can represent a transitional phase where you're figuring out your next steps or goals.\n",
            "\n",
            "In the context of Jung's analytical psychology, this uncertainty could be linked to the exploration of your 'Self'. This exploration involves understanding your desires, motivations, and personal goals beyond your professional achievements.\n",
            "\n",
            "Here are some reflection questions that might help you understand your feelings and the dream better:\n",
            "\n",
            "1. What goals or aspirations do you have outside of your professional life?\n",
            "2. Is there something new you're hoping to learn or an area you're looking to explore further?\n",
            "3. How do you typically handle uncertainty or transition periods in your life?\n",
            "4. Are there any steps you can take to feel more secure about your future endeavors?\n"
          ]
        }
      ]
    },
    {
      "cell_type": "code",
      "source": [],
      "metadata": {
        "id": "4lmtNWVmwwKB"
      },
      "id": "4lmtNWVmwwKB",
      "execution_count": null,
      "outputs": []
    }
  ],
  "metadata": {
    "kernelspec": {
      "display_name": "Python 3 (ipykernel)",
      "language": "python",
      "name": "python3"
    },
    "language_info": {
      "codemirror_mode": {
        "name": "ipython",
        "version": 3
      },
      "file_extension": ".py",
      "mimetype": "text/x-python",
      "name": "python",
      "nbconvert_exporter": "python",
      "pygments_lexer": "ipython3",
      "version": "3.12.1"
    },
    "colab": {
      "provenance": []
    }
  },
  "nbformat": 4,
  "nbformat_minor": 5
}