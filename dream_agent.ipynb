{
  "nbformat": 4,
  "nbformat_minor": 0,
  "metadata": {
    "colab": {
      "provenance": []
    },
    "kernelspec": {
      "name": "python3",
      "display_name": "Python 3"
    },
    "language_info": {
      "name": "python"
    }
  },
  "cells": [
    {
      "cell_type": "code",
      "execution_count": 1,
      "metadata": {
        "colab": {
          "base_uri": "https://localhost:8080/"
        },
        "id": "JME76fWdjXBp",
        "outputId": "28c4c988-74e0-4766-92d4-b67b57a989ec"
      },
      "outputs": [
        {
          "output_type": "stream",
          "name": "stdout",
          "text": [
            "\u001b[?25l   \u001b[90m━━━━━━━━━━━━━━━━━━━━━━━━━━━━━━━━━━━━━━━━\u001b[0m \u001b[32m0.0/50.4 kB\u001b[0m \u001b[31m?\u001b[0m eta \u001b[36m-:--:--\u001b[0m\r\u001b[2K   \u001b[90m━━━━━━━━━━━━━━━━━━━━━━━━━━━━━━━━━━━━━━━━\u001b[0m \u001b[32m50.4/50.4 kB\u001b[0m \u001b[31m2.0 MB/s\u001b[0m eta \u001b[36m0:00:00\u001b[0m\n",
            "\u001b[?25h\u001b[?25l   \u001b[90m━━━━━━━━━━━━━━━━━━━━━━━━━━━━━━━━━━━━━━━━\u001b[0m \u001b[32m0.0/409.5 kB\u001b[0m \u001b[31m?\u001b[0m eta \u001b[36m-:--:--\u001b[0m\r\u001b[2K   \u001b[91m━━━━━━━━━━━━━━━━━━━━━━━━━━━━━━━━━━━━━━━\u001b[0m\u001b[90m╺\u001b[0m \u001b[32m399.4/409.5 kB\u001b[0m \u001b[31m12.8 MB/s\u001b[0m eta \u001b[36m0:00:01\u001b[0m\r\u001b[2K   \u001b[90m━━━━━━━━━━━━━━━━━━━━━━━━━━━━━━━━━━━━━━━━\u001b[0m \u001b[32m409.5/409.5 kB\u001b[0m \u001b[31m9.1 MB/s\u001b[0m eta \u001b[36m0:00:00\u001b[0m\n",
            "\u001b[?25h\u001b[?25l   \u001b[90m━━━━━━━━━━━━━━━━━━━━━━━━━━━━━━━━━━━━━━━━\u001b[0m \u001b[32m0.0/125.1 kB\u001b[0m \u001b[31m?\u001b[0m eta \u001b[36m-:--:--\u001b[0m\r\u001b[2K   \u001b[90m━━━━━━━━━━━━━━━━━━━━━━━━━━━━━━━━━━━━━━━━\u001b[0m \u001b[32m125.1/125.1 kB\u001b[0m \u001b[31m12.8 MB/s\u001b[0m eta \u001b[36m0:00:00\u001b[0m\n",
            "\u001b[?25h\u001b[?25l   \u001b[90m━━━━━━━━━━━━━━━━━━━━━━━━━━━━━━━━━━━━━━━━\u001b[0m \u001b[32m0.0/1.2 MB\u001b[0m \u001b[31m?\u001b[0m eta \u001b[36m-:--:--\u001b[0m\r\u001b[2K   \u001b[91m━━━━━━━━━━━━━━━━━━━━━━━━━━━━━━━━━━━━━━━\u001b[0m\u001b[91m╸\u001b[0m \u001b[32m1.2/1.2 MB\u001b[0m \u001b[31m57.6 MB/s\u001b[0m eta \u001b[36m0:00:01\u001b[0m\r\u001b[2K   \u001b[90m━━━━━━━━━━━━━━━━━━━━━━━━━━━━━━━━━━━━━━━━\u001b[0m \u001b[32m1.2/1.2 MB\u001b[0m \u001b[31m33.0 MB/s\u001b[0m eta \u001b[36m0:00:00\u001b[0m\n",
            "\u001b[?25h"
          ]
        }
      ],
      "source": [
        "# Install necessary packages\n",
        "!pip install --quiet -U langchain_openai langchain_core langgraph\n"
      ]
    },
    {
      "cell_type": "code",
      "source": [
        "# Import necessary modules\n",
        "import os\n",
        "import getpass\n"
      ],
      "metadata": {
        "id": "Uc6cwoHJjd8O"
      },
      "execution_count": 2,
      "outputs": []
    },
    {
      "cell_type": "code",
      "source": [
        "def _set_env(var: str, value: str = None):\n",
        "    if value:\n",
        "        os.environ[var] = value\n",
        "    elif not os.environ.get(var):\n",
        "        os.environ[var] = getpass.getpass(f\"{var}: \")\n"
      ],
      "metadata": {
        "id": "OrdTogX1jil3"
      },
      "execution_count": 3,
      "outputs": []
    },
    {
      "cell_type": "code",
      "source": [
        "# Set API keys\n",
        "_set_env(\"OPENAI_API_KEY\")\n",
        "_set_env(\"LANGCHAIN_API_KEY\")\n"
      ],
      "metadata": {
        "colab": {
          "base_uri": "https://localhost:8080/"
        },
        "id": "H8H2F5dkjkyg",
        "outputId": "db724e21-ad4f-4ba7-a6db-c1893914edb2"
      },
      "execution_count": 4,
      "outputs": [
        {
          "name": "stdout",
          "output_type": "stream",
          "text": [
            "OPENAI_API_KEY: ··········\n",
            "LANGCHAIN_API_KEY: ··········\n"
          ]
        }
      ]
    },
    {
      "cell_type": "code",
      "source": [
        "# Set LangChain tracing (optional)\n",
        "os.environ[\"LANGCHAIN_TRACING_V2\"] = \"true\"\n",
        "os.environ[\"LANGCHAIN_PROJECT\"] = \"dream-interpretation-agent\"\n"
      ],
      "metadata": {
        "id": "wOUpk2bdjnWv"
      },
      "execution_count": 5,
      "outputs": []
    },
    {
      "cell_type": "code",
      "source": [
        "from langchain_openai import ChatOpenAI\n",
        "llm = ChatOpenAI(model=\"gpt-4\", temperature=0)\n"
      ],
      "metadata": {
        "id": "mER2HXZ6jyIH"
      },
      "execution_count": 6,
      "outputs": []
    },
    {
      "cell_type": "code",
      "source": [
        "from pydantic import BaseModel, Field\n",
        "from typing import List, Optional\n"
      ],
      "metadata": {
        "id": "9_L65-wXj1pq"
      },
      "execution_count": 7,
      "outputs": []
    },
    {
      "cell_type": "code",
      "source": [
        "class DreamSymbol(BaseModel):\n",
        "    symbol: str = Field(description=\"Symbol extracted from the dream.\")\n",
        "    context: str = Field(description=\"Context or description of the symbol within the dream.\")\n"
      ],
      "metadata": {
        "id": "BDpC8ckij68k"
      },
      "execution_count": 8,
      "outputs": []
    },
    {
      "cell_type": "code",
      "source": [
        "class DreamAnalyst(BaseModel):\n",
        "    name: str = Field(description=\"Name of the dream analyst.\")\n",
        "    approach: str = Field(description=\"Theoretical approach (e.g., Freudian, Jungian, Cognitive).\")\n",
        "    experience_years: int = Field(description=\"Number of years of experience in dream analysis.\")\n",
        "    personality_traits: List[str] = Field(description=\"Personality traits that affect interpretation style.\")\n",
        "    description: str = Field(description=\"Detailed description of the analyst's focus and interpretation style.\")\n"
      ],
      "metadata": {
        "id": "AOjilsrEj-eS"
      },
      "execution_count": 9,
      "outputs": []
    },
    {
      "cell_type": "code",
      "source": [
        "class AnalystTeam(BaseModel):\n",
        "    analysts: List[DreamAnalyst] = Field(\n",
        "        description=\"List of dream analysts with their approaches and expertise.\"\n",
        "    )\n"
      ],
      "metadata": {
        "id": "ewU23ty3kFBX"
      },
      "execution_count": 10,
      "outputs": []
    },
    {
      "cell_type": "code",
      "source": [
        "class SymbolList(BaseModel):\n",
        "    symbols: List[DreamSymbol] = Field(description=\"List of extracted dream symbols.\")\n"
      ],
      "metadata": {
        "id": "hvmtdU1TkNZq"
      },
      "execution_count": 11,
      "outputs": []
    },
    {
      "cell_type": "code",
      "source": [
        "from typing import TypedDict, Annotated\n",
        "from langchain_core.messages import AnyMessage\n",
        "from langgraph.graph.message import add_messages\n"
      ],
      "metadata": {
        "id": "RmZnK53UkQ3E"
      },
      "execution_count": 12,
      "outputs": []
    },
    {
      "cell_type": "code",
      "source": [
        "def merge_symbols(left: List[DreamSymbol] | None, right: List[DreamSymbol] | None) -> List[DreamSymbol]:\n",
        "    if left is None:\n",
        "        left = []\n",
        "    if right is None:\n",
        "        right = []\n",
        "    # Merge without duplicates based on the symbol\n",
        "    symbols = {symbol.symbol: symbol for symbol in left + right}\n",
        "    return list(symbols.values())\n"
      ],
      "metadata": {
        "id": "EjzswJzFkUsj"
      },
      "execution_count": 13,
      "outputs": []
    },
    {
      "cell_type": "code",
      "source": [
        "def merge_interpretation_sections(left: List[str] | None, right: List[str] | None) -> List[str]:\n",
        "    if left is None:\n",
        "        left = []\n",
        "    if right is None:\n",
        "        right = []\n",
        "    return left + right\n"
      ],
      "metadata": {
        "id": "2ydhvRtQkZS7"
      },
      "execution_count": 14,
      "outputs": []
    },
    {
      "cell_type": "code",
      "source": [
        "class DreamState(TypedDict):\n",
        "    user_id: str\n",
        "    messages: Annotated[List[AnyMessage], add_messages]\n",
        "    dream_description: str\n",
        "    symbols: Annotated[List[DreamSymbol], merge_symbols]\n",
        "    analysts: List[DreamAnalyst]\n",
        "    interpretation_sections: Annotated[List[str], merge_interpretation_sections]\n",
        "    final_report: str\n",
        "    max_analysts: int\n"
      ],
      "metadata": {
        "id": "rmIiHYtwkbff"
      },
      "execution_count": 15,
      "outputs": []
    },
    {
      "cell_type": "markdown",
      "source": [
        "##System Messages and Instructions"
      ],
      "metadata": {
        "id": "B30PMrWNk0lv"
      }
    },
    {
      "cell_type": "code",
      "source": [
        "#a. Symbol Extraction Instructions"
      ],
      "metadata": {
        "id": "XNMniJcek5Yo"
      },
      "execution_count": 18,
      "outputs": []
    },
    {
      "cell_type": "code",
      "source": [
        "symbol_extraction_instructions = \"\"\"\n",
        "You are a dream analysis assistant. Your task is to extract significant symbols from the dream description provided.\n",
        "\n",
        "Instructions:\n",
        "1. Identify all notable symbols, objects, characters, or events mentioned in the dream.\n",
        "2. For each symbol, provide the context or description within the dream.\n",
        "3. Do not provide interpretations at this stage.\n",
        "4. Present the symbols in a structured format as per the SymbolList model.\n",
        "\"\"\"\n"
      ],
      "metadata": {
        "id": "cWxhetzwkg70"
      },
      "execution_count": 16,
      "outputs": []
    },
    {
      "cell_type": "markdown",
      "source": [
        "b. Analyst Generation Instructions"
      ],
      "metadata": {
        "id": "8PcBfwXbk9Gi"
      }
    },
    {
      "cell_type": "code",
      "source": [
        "analyst_generation_instructions = \"\"\"\n",
        "You are tasked with creating a team of dream analyst personas for interpreting the dream. Follow these instructions carefully:\n",
        "\n",
        "1. Review the dream description:\n",
        "{dream_description}\n",
        "\n",
        "2. Determine the key themes or elements that require interpretation.\n",
        "\n",
        "3. Create up to {max_analysts} analysts, each specializing in a different theoretical approach relevant to dream analysis.\n",
        "\n",
        "4. For each analyst, provide the following:\n",
        "   - Name\n",
        "   - Theoretical approach (e.g., Freudian, Jungian, Cognitive)\n",
        "   - Number of years of experience in dream analysis\n",
        "   - Personality traits that affect their interpretation style (e.g., analytical, empathetic, creative)\n",
        "   - A detailed description of their focus and interpretation style\n",
        "\n",
        "5. Ensure that the team is diverse in expertise and perspective to provide comprehensive interpretations.\n",
        "\"\"\"\n"
      ],
      "metadata": {
        "id": "4lW2o_BiknTJ"
      },
      "execution_count": 17,
      "outputs": []
    },
    {
      "cell_type": "markdown",
      "source": [
        "c. Symbol Analysis Instructions Template"
      ],
      "metadata": {
        "id": "ZbmSUflklHYV"
      }
    },
    {
      "cell_type": "code",
      "source": [
        "symbol_analysis_instructions_template = \"\"\"\n",
        "You are {analyst_name}, a dream analyst specializing in {approach} with {experience_years} years of experience. Your personality traits are: {personality_traits}.\n",
        "\n",
        "Instructions:\n",
        "1. Analyze the following dream symbol: \"{symbol}\" in the context: \"{context}\".\n",
        "2. Provide a detailed interpretation based on your theoretical approach.\n",
        "3. Use your personality traits to influence your interpretation style.\n",
        "4. Do not reference other analysts or interpretations.\n",
        "\"\"\"\n"
      ],
      "metadata": {
        "id": "27ZfN6_-kvJH"
      },
      "execution_count": 19,
      "outputs": []
    },
    {
      "cell_type": "code",
      "source": [
        "from langchain_core.messages import SystemMessage, HumanMessage\n",
        "\n",
        "def extract_symbols(state: DreamState):\n",
        "    dream_description = state['dream_description']\n",
        "\n",
        "    # Enforce structured output\n",
        "    structured_llm = llm.with_structured_output(SymbolList)\n",
        "\n",
        "    # System message\n",
        "    system_message = SystemMessage(content=symbol_extraction_instructions)\n",
        "\n",
        "    # Human message\n",
        "    human_message = HumanMessage(content=dream_description)\n",
        "\n",
        "    # Invoke LLM\n",
        "    response = structured_llm.invoke([system_message, human_message])\n",
        "\n",
        "    # Extract symbols from response\n",
        "    extracted_symbols = response.symbols\n",
        "\n",
        "    return {'symbols': extracted_symbols}\n"
      ],
      "metadata": {
        "id": "RG4dan9WlKbz"
      },
      "execution_count": 20,
      "outputs": []
    },
    {
      "cell_type": "code",
      "source": [
        "def create_analysts(state: DreamState):\n",
        "    dream_description = state['dream_description']\n",
        "    max_analysts = state.get('max_analysts', 3)\n",
        "\n",
        "    # Enforce structured output\n",
        "    structured_llm = llm.with_structured_output(AnalystTeam)\n",
        "\n",
        "    # System message\n",
        "    system_message_content = analyst_generation_instructions.format(\n",
        "        dream_description=dream_description,\n",
        "        max_analysts=max_analysts\n",
        "    )\n",
        "\n",
        "    # Generate analysts\n",
        "    analyst_team = structured_llm.invoke([\n",
        "        SystemMessage(content=system_message_content),\n",
        "        HumanMessage(content=\"Generate the analyst personas.\")\n",
        "    ])\n",
        "\n",
        "    # Write the list of analysts to state\n",
        "    return {\"analysts\": analyst_team.analysts}\n"
      ],
      "metadata": {
        "id": "YAz1-t9qlNxS"
      },
      "execution_count": 21,
      "outputs": []
    },
    {
      "cell_type": "code",
      "source": [
        "def analyze_symbols(state: DreamState):\n",
        "    symbols = state['symbols']\n",
        "    analysts = state['analysts']\n",
        "    interpretation_sections = []\n",
        "\n",
        "    num_analysts = len(analysts)\n",
        "    for i, symbol in enumerate(symbols):\n",
        "        analyst = analysts[i % num_analysts]\n",
        "\n",
        "        # Prepare system message with analyst persona\n",
        "        personality_traits = ', '.join(analyst.personality_traits)\n",
        "        system_message_content = symbol_analysis_instructions_template.format(\n",
        "            analyst_name=analyst.name,\n",
        "            approach=analyst.approach,\n",
        "            experience_years=analyst.experience_years,\n",
        "            personality_traits=personality_traits,\n",
        "            symbol=symbol.symbol,\n",
        "            context=symbol.context\n",
        "        )\n",
        "\n",
        "        system_message = SystemMessage(content=system_message_content)\n",
        "\n",
        "        # Generate interpretation\n",
        "        interpretation = llm.invoke([system_message])\n",
        "\n",
        "        # Store the interpretation section\n",
        "        interpretation_section = f\"**Analyst:** {analyst.name}\\n**Approach:** {analyst.approach}\\n**Symbol:** {symbol.symbol}\\n{interpretation.content}\\n\"\n",
        "        interpretation_sections.append(interpretation_section)\n",
        "\n",
        "    # Update state\n",
        "    return {\n",
        "        'interpretation_sections': interpretation_sections\n",
        "    }\n"
      ],
      "metadata": {
        "id": "7UGkBePvlQMh"
      },
      "execution_count": 22,
      "outputs": []
    },
    {
      "cell_type": "code",
      "source": [
        "def compile_dream_report(state: DreamState):\n",
        "    interpretation_sections = state.get('interpretation_sections', [])\n",
        "\n",
        "    report = \"# Dream Interpretation Report\\n\\n## Interpretations\\n\\n\"\n",
        "    report += \"\\n\".join(interpretation_sections)\n",
        "\n",
        "    return {'final_report': report}\n"
      ],
      "metadata": {
        "id": "0ACXY2YRlSpc"
      },
      "execution_count": 23,
      "outputs": []
    },
    {
      "cell_type": "code",
      "source": [
        "# Build the main graph\n",
        "from langgraph.graph import StateGraph, START, END\n",
        "\n",
        "builder = StateGraph(DreamState)\n",
        "builder.add_node('extract_symbols', extract_symbols)\n",
        "builder.add_node('create_analysts', create_analysts)\n",
        "builder.add_node('analyze_symbols', analyze_symbols)\n",
        "builder.add_node('compile_dream_report', compile_dream_report)\n",
        "\n",
        "# Edges\n",
        "builder.add_edge(START, 'extract_symbols')\n",
        "builder.add_edge('extract_symbols', 'create_analysts')\n",
        "builder.add_edge('create_analysts', 'analyze_symbols')\n",
        "builder.add_edge('analyze_symbols', 'compile_dream_report')\n",
        "builder.add_edge('compile_dream_report', END)\n"
      ],
      "metadata": {
        "colab": {
          "base_uri": "https://localhost:8080/"
        },
        "id": "GqggXyNjlWKh",
        "outputId": "5af5067c-b9f5-4d3c-828f-d68b6fb3faa3"
      },
      "execution_count": 24,
      "outputs": [
        {
          "output_type": "execute_result",
          "data": {
            "text/plain": [
              "<langgraph.graph.state.StateGraph at 0x7d78f51de950>"
            ]
          },
          "metadata": {},
          "execution_count": 24
        }
      ]
    },
    {
      "cell_type": "code",
      "source": [
        "# Compile the graph\n",
        "from langgraph.checkpoint.memory import MemorySaver\n",
        "memory = MemorySaver()\n",
        "\n",
        "dream_graph = builder.compile(checkpointer=memory)\n"
      ],
      "metadata": {
        "id": "UXPaYAIllY9L"
      },
      "execution_count": 25,
      "outputs": []
    },
    {
      "cell_type": "code",
      "source": [
        "# Initial state\n",
        "initial_state = {\n",
        "    'user_id': 'dreamer1',\n",
        "    'dream_description': (\n",
        "        'I was walking through a dense forest when I stumbled upon a hidden door in a tree. '\n",
        "        'I opened the door and found a room filled with clocks all ticking at different times. '\n",
        "        'Suddenly, a white rabbit appeared and gestured me to follow it.'\n",
        "    ),\n",
        "    'messages': [],\n",
        "    'max_analysts': 3\n",
        "}\n"
      ],
      "metadata": {
        "id": "9LKWHNeClcVl"
      },
      "execution_count": 26,
      "outputs": []
    },
    {
      "cell_type": "code",
      "source": [
        "# Config\n",
        "config = {'configurable': {'thread_id': 'dream_thread1'}}\n"
      ],
      "metadata": {
        "id": "DECDI5bUlfcK"
      },
      "execution_count": 27,
      "outputs": []
    },
    {
      "cell_type": "code",
      "source": [
        "# Execute the graph\n",
        "result_state = dream_graph.invoke(initial_state, config)\n"
      ],
      "metadata": {
        "id": "LL0riX-KlimZ"
      },
      "execution_count": 28,
      "outputs": []
    },
    {
      "cell_type": "code",
      "source": [
        "# Get the final state\n",
        "final_state = dream_graph.get_state(config)[0]\n"
      ],
      "metadata": {
        "id": "5cbtR30hlkrv"
      },
      "execution_count": 29,
      "outputs": []
    },
    {
      "cell_type": "code",
      "source": [
        "# Pretty print the final report\n",
        "from IPython.display import display, Markdown\n",
        "\n",
        "print(\"\\nDream Interpretation Report:\")\n",
        "display(Markdown(final_state['final_report']))\n"
      ],
      "metadata": {
        "colab": {
          "base_uri": "https://localhost:8080/",
          "height": 1000
        },
        "id": "oazusKxklwrd",
        "outputId": "d0ab7e36-6704-4bb9-bb2d-8de1d5b4e24a"
      },
      "execution_count": 30,
      "outputs": [
        {
          "output_type": "stream",
          "name": "stdout",
          "text": [
            "\n",
            "Dream Interpretation Report:\n"
          ]
        },
        {
          "output_type": "display_data",
          "data": {
            "text/plain": [
              "<IPython.core.display.Markdown object>"
            ],
            "text/markdown": "# Dream Interpretation Report\n\n## Interpretations\n\n**Analyst:** Dr. Amelia Freudson\n**Approach:** Freudian\n**Symbol:** dense forest\nIn Freudian dream analysis, every element of a dream is believed to represent an aspect of the dreamer's unconscious mind. The \"dense forest\" in this context can be seen as a symbol of the dreamer's unconscious mind itself. Forests are often associated with mystery, unknown, and complexity, much like our unconscious mind. The density of the forest suggests that the dreamer's unconscious mind is filled with numerous unresolved issues, repressed emotions, or hidden desires that are yet to be explored or understood.\n\nWalking through this dense forest indicates the dreamer's journey into their own unconscious mind. This could be a sign that the dreamer is currently in a phase of self-discovery or introspection, trying to navigate through their complex emotions, past experiences, or hidden desires. The dreamer might be trying to understand their true self, their fears, or their desires that they have repressed or ignored in their waking life.\n\nHowever, the interpretation of this dream symbol can also depend on the dreamer's feelings and experiences in the dream. If the dreamer felt lost or scared in the forest, it might indicate their fear or anxiety towards exploring their unconscious mind or confronting their repressed emotions or desires. On the other hand, if the dreamer felt calm or curious, it might suggest their readiness or eagerness to understand their unconscious mind and resolve their inner conflicts.\n\nAs an analyst, I meticulously examine every detail of the dream and its context to provide a comprehensive interpretation. I believe that understanding our dreams can help us understand our unconscious mind and thus, ourselves better. However, it's important to remember that this interpretation is based on Freudian theory and the dreamer's personal experiences and feelings can significantly influence the meaning of their dream.\n\n**Analyst:** Prof. Carl Jungman\n**Approach:** Jungian\n**Symbol:** hidden door in a tree\nIn Jungian dream analysis, every symbol in a dream is a reflection of the dreamer's subconscious mind. The \"hidden door in a tree\" is a particularly rich symbol, suggesting a deep exploration of the self and the natural world.\n\nThe tree, in many cultures and psychological theories, is a symbol of life, growth, and the interconnectedness of all things. It represents the dreamer's personal growth and development. The fact that the tree houses a hidden door suggests that there is an aspect of the dreamer's personal growth or life experience that they have not yet fully explored or understood.\n\nThe door is a common symbol in dreams, often representing a transition or opportunity. A hidden door, however, suggests a secret or unexplored aspect of the dreamer's life or personality. It could represent a hidden potential, a secret desire, or an aspect of the dreamer's personality that they have not yet acknowledged or accepted.\n\nThe act of stumbling upon this hidden door suggests that the dreamer is not actively seeking this hidden aspect of themselves, but has come across it unexpectedly. This could indicate that the dreamer is in a phase of their life where they are beginning to uncover and explore aspects of their personality or life experience that they were previously unaware of.\n\nIn the context of the dream, the hidden door in the tree could be a call from the subconscious to explore these hidden aspects of the self. It suggests a need for introspection and self-discovery. The dreamer may be ready to delve deeper into their own psyche, to uncover and understand their true nature and potential.\n\nAs an intuitive, empathetic, and creative dream analyst, I would encourage the dreamer to embrace this journey of self-discovery. I would suggest that they pay attention to their feelings and intuition as they explore this hidden aspect of themselves. They may find that this journey leads to a deeper understanding of themselves and their place in the world.\n\n**Analyst:** Dr. Lisa Cognita\n**Approach:** Cognitive\n**Symbol:** room filled with clocks\nInterpreting the symbol of a \"room filled with clocks\" in the context of the dream, it's important to consider the cognitive perspective, which emphasizes the role of thought processes and the individual's understanding of themselves and their world.\n\nA room filled with clocks, all ticking at different times, can be seen as a representation of the dreamer's perception of time and their life events. Clocks are universally recognized symbols of time, order, and the rhythm of life. However, the fact that these clocks are all ticking at different times suggests a sense of disarray or confusion. This could indicate that the dreamer is experiencing a feeling of being out of sync with their own life timeline or with the timelines of others around them.\n\nThe room itself can be seen as a symbol of the dreamer's mind or personal space. The presence of so many clocks could suggest an overwhelming preoccupation with time, deadlines, or aging. It could also indicate a feeling of being surrounded by or trapped by these concerns.\n\nFrom a cognitive perspective, this dream could be a reflection of the dreamer's current mental state. If they are feeling stressed or anxious about certain deadlines or life events, their mind might be manifesting these concerns in the form of this dream. The different times on the clocks could represent different tasks or responsibilities that the dreamer is juggling, and the feeling of being out of sync could reflect their struggle to manage these tasks effectively.\n\nIn conclusion, this dream seems to be a manifestation of the dreamer's concerns about time and their ability to manage their responsibilities. It might be beneficial for the dreamer to examine their current stressors and consider whether they need to take steps to better manage their time or reduce their workload.\n\n**Analyst:** Dr. Amelia Freudson\n**Approach:** Freudian\n**Symbol:** white rabbit\nIn Freudian dream analysis, every symbol in a dream is a manifestation of the dreamer's subconscious mind. The \"white rabbit\" in this context is a particularly intriguing symbol. \n\nWhite, as a color, often represents purity, innocence, and in some cases, enlightenment. Rabbits, on the other hand, are typically associated with fertility, abundance, and fear due to their timid nature. However, the rabbit's gesture to follow it suggests a leadership or guiding role, which is not typically associated with the creature. \n\nAnalyzing this meticulously, the white rabbit could symbolize a part of the dreamer's subconscious that is pure and innocent, yet filled with potential (fertility) and perhaps a bit of fear or apprehension (rabbit's timid nature). The act of the rabbit gesturing the dreamer to follow it could represent an invitation from the dreamer's subconscious to delve deeper into their own innocence, potential, and fears.\n\nThe dreamer might be at a point in their life where they are being called to explore these aspects of themselves. This could be a journey of self-discovery, personal growth, or even a confrontation with fears that have been long suppressed. \n\nIn a more introspective view, the dreamer might be yearning for a return to innocence or purity, which the white rabbit symbolizes. This could be a subconscious desire to retreat from the complexities and disappointments of adult life, seeking solace in the simplicity and abundance of childhood or a more innocent time.\n\nIn conclusion, the white rabbit in this dream is a complex symbol that represents a call to introspection, a journey into the self, and a confrontation with one's fears and potential. It's an invitation to explore the purity and abundance within, despite the fear that such a journey might entail.\n"
          },
          "metadata": {}
        }
      ]
    },
    {
      "cell_type": "code",
      "source": [
        "pip install --quiet gradio\n"
      ],
      "metadata": {
        "colab": {
          "base_uri": "https://localhost:8080/"
        },
        "id": "9jBZG8RZl0Uw",
        "outputId": "1b262788-e812-44db-a84c-7c713b318347"
      },
      "execution_count": 31,
      "outputs": [
        {
          "output_type": "stream",
          "name": "stdout",
          "text": [
            "\u001b[2K   \u001b[90m━━━━━━━━━━━━━━━━━━━━━━━━━━━━━━━━━━━━━━━━\u001b[0m \u001b[32m57.1/57.1 MB\u001b[0m \u001b[31m15.8 MB/s\u001b[0m eta \u001b[36m0:00:00\u001b[0m\n",
            "\u001b[2K   \u001b[90m━━━━━━━━━━━━━━━━━━━━━━━━━━━━━━━━━━━━━━━━\u001b[0m \u001b[32m320.1/320.1 kB\u001b[0m \u001b[31m25.7 MB/s\u001b[0m eta \u001b[36m0:00:00\u001b[0m\n",
            "\u001b[2K   \u001b[90m━━━━━━━━━━━━━━━━━━━━━━━━━━━━━━━━━━━━━━━━\u001b[0m \u001b[32m94.9/94.9 kB\u001b[0m \u001b[31m9.0 MB/s\u001b[0m eta \u001b[36m0:00:00\u001b[0m\n",
            "\u001b[2K   \u001b[90m━━━━━━━━━━━━━━━━━━━━━━━━━━━━━━━━━━━━━━━━\u001b[0m \u001b[32m11.1/11.1 MB\u001b[0m \u001b[31m91.3 MB/s\u001b[0m eta \u001b[36m0:00:00\u001b[0m\n",
            "\u001b[2K   \u001b[90m━━━━━━━━━━━━━━━━━━━━━━━━━━━━━━━━━━━━━━━━\u001b[0m \u001b[32m73.2/73.2 kB\u001b[0m \u001b[31m6.5 MB/s\u001b[0m eta \u001b[36m0:00:00\u001b[0m\n",
            "\u001b[2K   \u001b[90m━━━━━━━━━━━━━━━━━━━━━━━━━━━━━━━━━━━━━━━━\u001b[0m \u001b[32m63.8/63.8 kB\u001b[0m \u001b[31m6.0 MB/s\u001b[0m eta \u001b[36m0:00:00\u001b[0m\n",
            "\u001b[2K   \u001b[90m━━━━━━━━━━━━━━━━━━━━━━━━━━━━━━━━━━━━━━━━\u001b[0m \u001b[32m130.2/130.2 kB\u001b[0m \u001b[31m11.7 MB/s\u001b[0m eta \u001b[36m0:00:00\u001b[0m\n",
            "\u001b[?25h"
          ]
        }
      ]
    },
    {
      "cell_type": "code",
      "source": [
        "import gradio as gr\n"
      ],
      "metadata": {
        "id": "mqLTBWtMm3hO"
      },
      "execution_count": 32,
      "outputs": []
    },
    {
      "cell_type": "code",
      "source": [
        "# Install necessary packages\n",
        "!pip install --quiet -U langchain_openai langchain_core langgraph gradio\n",
        "\n",
        "# Import necessary modules\n",
        "import os\n",
        "import getpass\n",
        "import gradio as gr\n",
        "\n",
        "def _set_env(var: str, value: str = None):\n",
        "    if value:\n",
        "        os.environ[var] = value\n",
        "    elif not os.environ.get(var):\n",
        "        os.environ[var] = getpass.getpass(f\"Enter your {var}: \")\n",
        "\n",
        "# Set API keys\n",
        "_set_env(\"OPENAI_API_KEY\")\n",
        "_set_env(\"LANGCHAIN_API_KEY\")\n",
        "\n",
        "# Set LangChain tracing (optional)\n",
        "os.environ[\"LANGCHAIN_TRACING_V2\"] = \"true\"\n",
        "os.environ[\"LANGCHAIN_PROJECT\"] = \"dream-interpretation-agent\"\n",
        "\n",
        "from langchain_openai import ChatOpenAI\n",
        "llm = ChatOpenAI(model=\"gpt-4\", temperature=0)\n",
        "\n",
        "# Define data models\n",
        "from pydantic import BaseModel, Field\n",
        "from typing import List, Optional\n",
        "\n",
        "class DreamSymbol(BaseModel):\n",
        "    symbol: str = Field(description=\"Symbol extracted from the dream.\")\n",
        "    context: str = Field(description=\"Context or description of the symbol within the dream.\")\n",
        "\n",
        "class DreamAnalyst(BaseModel):\n",
        "    name: str = Field(description=\"Name of the dream analyst.\")\n",
        "    approach: str = Field(description=\"Theoretical approach (e.g., Freudian, Jungian, Cognitive).\")\n",
        "    experience_years: int = Field(description=\"Number of years of experience in dream analysis.\")\n",
        "    personality_traits: List[str] = Field(description=\"Personality traits that affect interpretation style.\")\n",
        "    description: str = Field(description=\"Detailed description of the analyst's focus and interpretation style.\")\n",
        "\n",
        "class AnalystTeam(BaseModel):\n",
        "    analysts: List[DreamAnalyst] = Field(\n",
        "        description=\"List of dream analysts with their approaches and expertise.\"\n",
        "    )\n",
        "\n",
        "class SymbolList(BaseModel):\n",
        "    symbols: List[DreamSymbol] = Field(description=\"List of extracted dream symbols.\")\n",
        "\n",
        "# Define state schema and helper functions\n",
        "from typing import TypedDict, Annotated\n",
        "from langchain_core.messages import AnyMessage\n",
        "from langgraph.graph.message import add_messages\n",
        "\n",
        "def merge_symbols(left: List[DreamSymbol] | None, right: List[DreamSymbol] | None) -> List[DreamSymbol]:\n",
        "    if left is None:\n",
        "        left = []\n",
        "    if right is None:\n",
        "        right = []\n",
        "    # Merge without duplicates based on the symbol\n",
        "    symbols = {symbol.symbol: symbol for symbol in left + right}\n",
        "    return list(symbols.values())\n",
        "\n",
        "def merge_interpretation_sections(left: List[str] | None, right: List[str] | None) -> List[str]:\n",
        "    if left is None:\n",
        "        left = []\n",
        "    if right is None:\n",
        "        right = []\n",
        "    return left + right\n",
        "\n",
        "class DreamState(TypedDict):\n",
        "    user_id: str\n",
        "    messages: Annotated[List[AnyMessage], add_messages]\n",
        "    dream_description: str\n",
        "    symbols: Annotated[List[DreamSymbol], merge_symbols]\n",
        "    analysts: List[DreamAnalyst]\n",
        "    interpretation_sections: Annotated[List[str], merge_interpretation_sections]\n",
        "    final_report: str\n",
        "    max_analysts: int\n",
        "\n",
        "# System messages and instructions\n",
        "symbol_extraction_instructions = \"\"\"\n",
        "You are a dream analysis assistant. Your task is to extract significant symbols from the dream description provided.\n",
        "\n",
        "Instructions:\n",
        "1. Identify all notable symbols, objects, characters, or events mentioned in the dream.\n",
        "2. For each symbol, provide the context or description within the dream.\n",
        "3. Do not provide interpretations at this stage.\n",
        "4. Present the symbols in a structured format as per the SymbolList model.\n",
        "\"\"\"\n",
        "\n",
        "analyst_generation_instructions = \"\"\"\n",
        "You are tasked with creating a team of dream analyst personas for interpreting the dream. Follow these instructions carefully:\n",
        "\n",
        "1. Review the dream description:\n",
        "{dream_description}\n",
        "\n",
        "2. Determine the key themes or elements that require interpretation.\n",
        "\n",
        "3. Create up to {max_analysts} analysts, each specializing in a different theoretical approach relevant to dream analysis.\n",
        "\n",
        "4. For each analyst, provide the following:\n",
        "   - Name\n",
        "   - Theoretical approach (e.g., Freudian, Jungian, Cognitive)\n",
        "   - Number of years of experience in dream analysis\n",
        "   - Personality traits that affect their interpretation style (e.g., analytical, empathetic, creative)\n",
        "   - A detailed description of their focus and interpretation style\n",
        "\n",
        "5. Ensure that the team is diverse in expertise and perspective to provide comprehensive interpretations.\n",
        "\"\"\"\n",
        "\n",
        "symbol_analysis_instructions_template = \"\"\"\n",
        "You are {analyst_name}, a dream analyst specializing in {approach} with {experience_years} years of experience. Your personality traits are: {personality_traits}.\n",
        "\n",
        "Instructions:\n",
        "1. Analyze the following dream symbol: \"{symbol}\" in the context: \"{context}\".\n",
        "2. Provide a detailed interpretation based on your theoretical approach.\n",
        "3. Use your personality traits to influence your interpretation style.\n",
        "4. Do not reference other analysts or interpretations.\n",
        "\"\"\"\n",
        "\n",
        "# Define functions and nodes\n",
        "from langchain_core.messages import SystemMessage, HumanMessage\n",
        "\n",
        "def extract_symbols(state: DreamState):\n",
        "    dream_description = state['dream_description']\n",
        "\n",
        "    # Enforce structured output\n",
        "    structured_llm = llm.with_structured_output(SymbolList)\n",
        "\n",
        "    # System message\n",
        "    system_message = SystemMessage(content=symbol_extraction_instructions)\n",
        "\n",
        "    # Human message\n",
        "    human_message = HumanMessage(content=dream_description)\n",
        "\n",
        "    # Invoke LLM\n",
        "    response = structured_llm.invoke([system_message, human_message])\n",
        "\n",
        "    # Extract symbols from response\n",
        "    extracted_symbols = response.symbols\n",
        "\n",
        "    return {'symbols': extracted_symbols}\n",
        "\n",
        "def create_analysts(state: DreamState):\n",
        "    dream_description = state['dream_description']\n",
        "    max_analysts = state.get('max_analysts', 3)\n",
        "\n",
        "    # Enforce structured output\n",
        "    structured_llm = llm.with_structured_output(AnalystTeam)\n",
        "\n",
        "    # System message\n",
        "    system_message_content = analyst_generation_instructions.format(\n",
        "        dream_description=dream_description,\n",
        "        max_analysts=max_analysts\n",
        "    )\n",
        "\n",
        "    # Generate analysts\n",
        "    analyst_team = structured_llm.invoke([\n",
        "        SystemMessage(content=system_message_content),\n",
        "        HumanMessage(content=\"Generate the analyst personas.\")\n",
        "    ])\n",
        "\n",
        "    # Write the list of analysts to state\n",
        "    return {\"analysts\": analyst_team.analysts}\n",
        "\n",
        "def analyze_symbols(state: DreamState):\n",
        "    symbols = state['symbols']\n",
        "    analysts = state['analysts']\n",
        "    interpretation_sections = []\n",
        "\n",
        "    num_analysts = len(analysts)\n",
        "    for i, symbol in enumerate(symbols):\n",
        "        analyst = analysts[i % num_analysts]\n",
        "\n",
        "        # Prepare system message with analyst persona\n",
        "        personality_traits = ', '.join(analyst.personality_traits)\n",
        "        system_message_content = symbol_analysis_instructions_template.format(\n",
        "            analyst_name=analyst.name,\n",
        "            approach=analyst.approach,\n",
        "            experience_years=analyst.experience_years,\n",
        "            personality_traits=personality_traits,\n",
        "            symbol=symbol.symbol,\n",
        "            context=symbol.context\n",
        "        )\n",
        "\n",
        "        system_message = SystemMessage(content=system_message_content)\n",
        "\n",
        "        # Generate interpretation\n",
        "        interpretation = llm.invoke([system_message])\n",
        "\n",
        "        # Store the interpretation section\n",
        "        interpretation_section = f\"**Analyst:** {analyst.name}\\n**Approach:** {analyst.approach}\\n**Symbol:** {symbol.symbol}\\n{interpretation.content}\\n\"\n",
        "        interpretation_sections.append(interpretation_section)\n",
        "\n",
        "    # Update state\n",
        "    return {\n",
        "        'interpretation_sections': interpretation_sections\n",
        "    }\n",
        "\n",
        "def compile_dream_report(state: DreamState):\n",
        "    interpretation_sections = state.get('interpretation_sections', [])\n",
        "\n",
        "    report = \"# Dream Interpretation Report\\n\\n## Interpretations\\n\\n\"\n",
        "    report += \"\\n\".join(interpretation_sections)\n",
        "\n",
        "    return {'final_report': report}\n",
        "\n",
        "# Build the main graph\n",
        "from langgraph.graph import StateGraph, START, END\n",
        "\n",
        "builder = StateGraph(DreamState)\n",
        "builder.add_node('extract_symbols', extract_symbols)\n",
        "builder.add_node('create_analysts', create_analysts)\n",
        "builder.add_node('analyze_symbols', analyze_symbols)\n",
        "builder.add_node('compile_dream_report', compile_dream_report)\n",
        "\n",
        "# Edges\n",
        "builder.add_edge(START, 'extract_symbols')\n",
        "builder.add_edge('extract_symbols', 'create_analysts')\n",
        "builder.add_edge('create_analysts', 'analyze_symbols')\n",
        "builder.add_edge('analyze_symbols', 'compile_dream_report')\n",
        "builder.add_edge('compile_dream_report', END)\n",
        "\n",
        "# Compile the graph\n",
        "from langgraph.checkpoint.memory import MemorySaver\n",
        "memory = MemorySaver()\n",
        "\n",
        "dream_graph = builder.compile(checkpointer=memory)\n",
        "\n",
        "# Define the Gradio app function\n",
        "def run_dream_interpreter(dream_description, max_analysts):\n",
        "    # Initial state\n",
        "    initial_state = {\n",
        "        'user_id': 'dreamer1',\n",
        "        'dream_description': dream_description,\n",
        "        'messages': [],\n",
        "        'max_analysts': int(max_analysts)\n",
        "    }\n",
        "\n",
        "    # Config\n",
        "    config = {'configurable': {'thread_id': 'dream_thread1'}}\n",
        "\n",
        "    # Execute the graph\n",
        "    try:\n",
        "        result_state = dream_graph.invoke(initial_state, config)\n",
        "    except Exception as e:\n",
        "        return f\"An error occurred during interpretation: {e}\"\n",
        "\n",
        "    # Get the final state\n",
        "    final_state = dream_graph.get_state(config)[0]\n",
        "\n",
        "    # Return the final report\n",
        "    return final_state['final_report']\n",
        "\n",
        "# Create the Gradio interface\n",
        "iface = gr.Interface(\n",
        "    fn=run_dream_interpreter,\n",
        "    inputs=[\n",
        "        gr.Textbox(\n",
        "            lines=10,\n",
        "            placeholder=\"Describe your dream here...\",\n",
        "            label=\"Dream Description\"\n",
        "        ),\n",
        "        gr.Slider(\n",
        "            minimum=1,\n",
        "            maximum=5,\n",
        "            step=1,\n",
        "            value=3,\n",
        "            label=\"Number of Analysts\"\n",
        "        )\n",
        "    ],\n",
        "    outputs=\"markdown\",\n",
        "    title=\"Dream Interpretation Agent\",\n",
        "    description=\"Enter your dream description to receive interpretations from AI-generated dream analysts.\",\n",
        "    allow_flagging=\"never\"\n",
        ")\n",
        "\n",
        "# Launch the Gradio app\n",
        "iface.launch(share=True)\n"
      ],
      "metadata": {
        "colab": {
          "base_uri": "https://localhost:8080/",
          "height": 628
        },
        "id": "fNDGps0Fm6kG",
        "outputId": "3e183922-2d9f-435b-a87c-dae17550a76d"
      },
      "execution_count": 33,
      "outputs": [
        {
          "output_type": "stream",
          "name": "stderr",
          "text": [
            "/usr/local/lib/python3.10/dist-packages/gradio/interface.py:399: UserWarning: The `allow_flagging` parameter in `Interface` is deprecated.Use `flagging_mode` instead.\n",
            "  warnings.warn(\n"
          ]
        },
        {
          "output_type": "stream",
          "name": "stdout",
          "text": [
            "Colab notebook detected. To show errors in colab notebook, set debug=True in launch()\n",
            "* Running on public URL: https://e3917302fc1829e553.gradio.live\n",
            "\n",
            "This share link expires in 72 hours. For free permanent hosting and GPU upgrades, run `gradio deploy` from the terminal in the working directory to deploy to Hugging Face Spaces (https://huggingface.co/spaces)\n"
          ]
        },
        {
          "output_type": "display_data",
          "data": {
            "text/plain": [
              "<IPython.core.display.HTML object>"
            ],
            "text/html": [
              "<div><iframe src=\"https://e3917302fc1829e553.gradio.live\" width=\"100%\" height=\"500\" allow=\"autoplay; camera; microphone; clipboard-read; clipboard-write;\" frameborder=\"0\" allowfullscreen></iframe></div>"
            ]
          },
          "metadata": {}
        },
        {
          "output_type": "execute_result",
          "data": {
            "text/plain": []
          },
          "metadata": {},
          "execution_count": 33
        }
      ]
    },
    {
      "cell_type": "code",
      "source": [],
      "metadata": {
        "id": "m0banrhsnJOV"
      },
      "execution_count": null,
      "outputs": []
    }
  ]
}